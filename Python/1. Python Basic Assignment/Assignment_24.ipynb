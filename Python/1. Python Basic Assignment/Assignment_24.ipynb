{
 "cells": [
  {
   "cell_type": "markdown",
   "metadata": {},
   "source": [
    "#### 1. What is the relationship between def statements and lambda expressions ?"
   ]
  },
  {
   "cell_type": "markdown",
   "metadata": {},
   "source": [
    "**Ans:** To keep it simple, A *lambda* is an **expression producing a function**. A *def* is a **statement producing a function**. The def defined functions do not return anything if not explicitly returned whereas the lambda function does return an object."
   ]
  },
  {
   "cell_type": "markdown",
   "metadata": {},
   "source": [
    " "
   ]
  },
  {
   "cell_type": "markdown",
   "metadata": {},
   "source": []
  },
  {
   "cell_type": "markdown",
   "metadata": {},
   "source": [
    "#### 2. What is the benefit of lambda?"
   ]
  },
  {
   "cell_type": "markdown",
   "metadata": {},
   "source": [
    "**Ans:** Two major benefits of lambda are\n",
    "* Few lines of code\n",
    "* No additional variables added\n",
    "\n",
    "Because of these two factors, lambda are faster to execute than def functions."
   ]
  },
  {
   "cell_type": "markdown",
   "metadata": {},
   "source": [
    " "
   ]
  },
  {
   "cell_type": "markdown",
   "metadata": {},
   "source": []
  },
  {
   "cell_type": "markdown",
   "metadata": {},
   "source": [
    "#### 3. Compare and contrast map, filter, and reduce."
   ]
  },
  {
   "cell_type": "markdown",
   "metadata": {},
   "source": [
    "**Ans:** `map()`, `filter()` and `reduce()` are extensively used during lambda functions even though tehy can be used independent of lambda.\n",
    "\n",
    "Consider list \n",
    "```python\n",
    "A = [1, 2, 'Three', 'Four']\n",
    "```"
   ]
  },
  {
   "cell_type": "code",
   "execution_count": 1,
   "metadata": {},
   "outputs": [],
   "source": [
    "A = [1, 2, 'Three', 'Four']"
   ]
  },
  {
   "cell_type": "markdown",
   "metadata": {},
   "source": [
    "Our task is to differenciate strings and variables in the list. \n",
    "\n",
    "Consider `map()` operation. This function iterates through all items in the given iterable and executes the function we passed as an argument on each of them.\n",
    "\n",
    "The syntax is:\n",
    "```python\n",
    "map(function, iterable(s))\n",
    "```"
   ]
  },
  {
   "cell_type": "code",
   "execution_count": 2,
   "metadata": {},
   "outputs": [
    {
     "name": "stdout",
     "output_type": "stream",
     "text": [
      "Without lambda: [False, False, True, True]\n",
      "With lambda   : [False, False, True, True]\n"
     ]
    }
   ],
   "source": [
    "# Without lambda, we can do this as\n",
    "def Vartype(item):\n",
    "    return type(item) == str\n",
    "map_object = map(Vartype, A)\n",
    "print('Without lambda:',list(map_object))\n",
    "\n",
    "\n",
    "# With labmda function, we can reduce the code to \n",
    "map_object = map(lambda item : type(item) == str, A)\n",
    "print('With lambda   :',list(map_object))"
   ]
  },
  {
   "cell_type": "markdown",
   "metadata": {},
   "source": [
    "`filter()` forms a new list that contains only elements that satisfy a certain condition, i.e. the function we passed returns True. This is more refined version of map function whose output value will be list elements instead of True-False statement.\n",
    "\n",
    "The syntax is:\n",
    "```python\n",
    "filter(function, iterable(s))\n",
    "```"
   ]
  },
  {
   "cell_type": "code",
   "execution_count": 3,
   "metadata": {},
   "outputs": [
    {
     "name": "stdout",
     "output_type": "stream",
     "text": [
      "Without lambda: ['Three', 'Four']\n",
      "With lambda   : ['Three', 'Four']\n"
     ]
    }
   ],
   "source": [
    "# Without lambda, we can do this as\n",
    "def Vartype(item):\n",
    "    return type(item) == str\n",
    "map_object = filter(Vartype, A)\n",
    "print('Without lambda:',list(map_object))\n",
    "\n",
    "\n",
    "# With labmda function, we can reduce the code to \n",
    "map_object = filter(lambda item : type(item) == str, A)\n",
    "print('With lambda   :',list(map_object))"
   ]
  },
  {
   "cell_type": "markdown",
   "metadata": {},
   "source": [
    "`reduce()` works differently than map() and filter(). It does not return a new list based on the function and iterable we've passed. Instead, it returns a single value.\n",
    "\n",
    "Also, in Python 3 reduce() isn't a built-in function anymore, and it can be found in the *functools* module.\n",
    "\n",
    "`reduce()` works by calling the *function* we passed for the first two items in the sequence. The result returned by the *function* is used in another call to *function* alongside with the next (third in this case), element.\n",
    "\n",
    "This process repeats until we've gone through all the elements in the sequence.\n",
    "\n",
    "The optional argument `initial` is used, when present, at the beginning of this \"loop\" with the first element in the first call to *function*. In a way, the initial element is the 0th element, before the first one, when provided.\n",
    "\n",
    "This is same as function calling itself like\n",
    "```c\n",
    "int find_factorial(int n)\n",
    "{\n",
    "   //Factorial of 0 is 1 \n",
    "   if(n==0)\n",
    "      return(1);\n",
    " \n",
    "   //Function calling itself: recursion\n",
    "   return(n*find_factorial(n-1));\n",
    "}\n",
    "```\n",
    "where **find_factorial** is calling itself inside its own function. This is called recursion.\n",
    "\n",
    "The syntax is:\n",
    "```python\n",
    "reduce(function, sequence[, initial])\n",
    "\n",
    "Let\n",
    "A = [1, 2, 3, 4]\n",
    "```"
   ]
  },
  {
   "cell_type": "code",
   "execution_count": 4,
   "metadata": {},
   "outputs": [
    {
     "name": "stdout",
     "output_type": "stream",
     "text": [
      "Without lambda: 10\n",
      "With lambda   : 10\n"
     ]
    }
   ],
   "source": [
    "A = [1, 2, 3, 4]\n",
    "from functools import reduce\n",
    "\n",
    "# Without lambda, we can do this as\n",
    "def add(x, y):\n",
    "    return x + y\n",
    "print('Without lambda:', reduce(add, A))\n",
    "\n",
    "# With labmda function, we can reduce the code to \n",
    "print('With lambda   :', reduce(lambda x, y: x + y, A))"
   ]
  },
  {
   "cell_type": "markdown",
   "metadata": {},
   "source": [
    "If we provide a value to initial, it will get considereded during execution as"
   ]
  },
  {
   "cell_type": "code",
   "execution_count": 5,
   "metadata": {},
   "outputs": [
    {
     "name": "stdout",
     "output_type": "stream",
     "text": [
      "With an initial value: 20\n"
     ]
    }
   ],
   "source": [
    "print(\"With an initial value: \" + str(reduce(lambda x, y: x + y, A, 10)))"
   ]
  },
  {
   "cell_type": "markdown",
   "metadata": {},
   "source": [
    " "
   ]
  },
  {
   "cell_type": "markdown",
   "metadata": {},
   "source": []
  },
  {
   "cell_type": "markdown",
   "metadata": {},
   "source": [
    "#### 4. What are function annotations, and how are they used?"
   ]
  },
  {
   "cell_type": "markdown",
   "metadata": {},
   "source": [
    "**Ans:** Function annotations provide a way of associating various parts of a function with arbitrary pythoncexpressions at compile time.\n",
    "\n",
    "Annotations of simple parameters `def func(x: expression, y: expression = 20):`\n",
    "\n",
    "Whereas the annotations for excess parameters are as `def func (*args: expression, **kwargs: expression):`"
   ]
  },
  {
   "cell_type": "markdown",
   "metadata": {},
   "source": [
    " "
   ]
  },
  {
   "cell_type": "markdown",
   "metadata": {},
   "source": []
  },
  {
   "cell_type": "markdown",
   "metadata": {},
   "source": [
    "#### 5. What are recursive functions, and how are they used?"
   ]
  },
  {
   "cell_type": "markdown",
   "metadata": {},
   "source": [
    "**Ans:** A function that calls itself is said to be recursive, and the technique of employing a recursive function is called recursion. Recursive functions are very useful to solve many mathematical problems, such as calculating the factorial of a number, generating Fibonacci series, etc without explicit loops in the functions."
   ]
  },
  {
   "cell_type": "markdown",
   "metadata": {},
   "source": [
    " "
   ]
  },
  {
   "cell_type": "markdown",
   "metadata": {},
   "source": []
  },
  {
   "cell_type": "markdown",
   "metadata": {},
   "source": [
    "#### 6. What are some general design guidelines for coding functions?"
   ]
  },
  {
   "cell_type": "markdown",
   "metadata": {},
   "source": [
    "**Ans:** Few general guidelines are:\n",
    "* Provide keyword `def` that marks the start of the function header.\n",
    "* A function name to uniquely identify the function must be provided. Function naming follows the same rules of writing identifiers in Python.\n",
    "* Parameters (arguments) through which we pass values to a function can be provided. They are optional.\n",
    "* A colon (:) to mark the end of the function header must be provided.\n",
    "* Optional documentation string (docstring) to describe what the function does can be provided.\n",
    "* One or more valid python statements that make up the function body is created. Statements must have the same indentation level (usually 4 spaces).\n",
    "* An optional return statement to return a value from the function is provided."
   ]
  },
  {
   "cell_type": "markdown",
   "metadata": {},
   "source": [
    " "
   ]
  },
  {
   "cell_type": "markdown",
   "metadata": {},
   "source": []
  },
  {
   "cell_type": "markdown",
   "metadata": {},
   "source": [
    "#### 7. Name three or more ways that functions can communicate results to a caller."
   ]
  },
  {
   "cell_type": "markdown",
   "metadata": {},
   "source": [
    "**Ans:** Some of the ways in which a function can communicate with the calling function is:\n",
    "\n",
    "* print\n",
    "* return\n",
    "* yield\n"
   ]
  }
 ],
 "metadata": {
  "interpreter": {
   "hash": "d0d43860665baa26cd998e210bb5f949c374c363b141cb52dd7ace6edf5b1fb7"
  },
  "kernelspec": {
   "display_name": "Python 3.9.7 64-bit ('fullstack': conda)",
   "language": "python",
   "name": "python3"
  },
  "language_info": {
   "codemirror_mode": {
    "name": "ipython",
    "version": 3
   },
   "file_extension": ".py",
   "mimetype": "text/x-python",
   "name": "python",
   "nbconvert_exporter": "python",
   "pygments_lexer": "ipython3",
   "version": "3.9.7"
  },
  "orig_nbformat": 4
 },
 "nbformat": 4,
 "nbformat_minor": 2
}
