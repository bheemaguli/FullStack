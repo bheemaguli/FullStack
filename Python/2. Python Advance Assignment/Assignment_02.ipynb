{
 "cells": [
  {
   "cell_type": "code",
   "execution_count": null,
   "id": "1e7031b5",
   "metadata": {
    "vscode": {
     "languageId": "plaintext"
    }
   },
   "outputs": [],
   "source": [
    "Q1. What is the relationship between classes and modules?\n",
    "\n",
    "\n",
    "\n",
    "Q2. How do you make instances and classes?\n",
    "\n",
    "\n",
    "\n",
    "Q3. Where and how should be class attributes created?\n",
    "\n",
    "\n",
    "\n",
    "Q4. Where and how are instance attributes created?\n",
    "\n",
    "\n",
    "\n",
    "Q5. What does the term \"self\" in a Python class mean?\n",
    "\n",
    "\n",
    "\n",
    "Q6. How does a Python class handle operator overloading?\n",
    "\n",
    "\n",
    "\n",
    "Q7. When do you consider allowing operator overloading of your classes?\n",
    "\n",
    "\n",
    "\n",
    "Q8. What is the most popular form of operator overloading?\n",
    "\n",
    "\n",
    "\n",
    "Q9. What are the two most important concepts to grasp in order to comprehend Python OOP code?"
   ]
  },
  {
   "cell_type": "markdown",
   "id": "f34a365b-91ef-4ff4-b617-ddc430284dee",
   "metadata": {
    "tags": []
   },
   "source": [
    "#### 1. What is the purpose of Python's OOP?"
   ]
  },
  {
   "cell_type": "markdown",
   "id": "e070ceee",
   "metadata": {},
   "source": [
    "**Ans:** "
   ]
  },
  {
   "cell_type": "markdown",
   "id": "7a98a66d",
   "metadata": {},
   "source": []
  },
  {
   "cell_type": "markdown",
   "id": "2c9e0410",
   "metadata": {},
   "source": []
  },
  {
   "cell_type": "markdown",
   "id": "fcc90c91-42ec-45a9-8a29-ee6384cd2ab9",
   "metadata": {
    "tags": []
   },
   "source": [
    "#### 2. Where does an inheritance search look for an attribute?"
   ]
  },
  {
   "cell_type": "markdown",
   "id": "098dc8c7",
   "metadata": {},
   "source": [
    "**Ans:**"
   ]
  },
  {
   "cell_type": "markdown",
   "id": "59268d20",
   "metadata": {},
   "source": []
  },
  {
   "cell_type": "markdown",
   "id": "1d4c32a1",
   "metadata": {},
   "source": []
  },
  {
   "cell_type": "markdown",
   "id": "93c6e286-6b75-40a2-a2cd-02b2e0f414fc",
   "metadata": {
    "tags": []
   },
   "source": [
    "#### 3. How do you distinguish between a class object and an instance object?"
   ]
  },
  {
   "cell_type": "markdown",
   "id": "229bf87f",
   "metadata": {},
   "source": [
    "**Ans:** "
   ]
  },
  {
   "cell_type": "markdown",
   "id": "191e9e33",
   "metadata": {},
   "source": []
  },
  {
   "cell_type": "markdown",
   "id": "f9b518e1",
   "metadata": {},
   "source": []
  },
  {
   "cell_type": "markdown",
   "id": "ac27a2d1-45c4-487b-aafd-219419a46af3",
   "metadata": {
    "tags": []
   },
   "source": [
    "#### 4. What makes the first argument in a class’s method function special?"
   ]
  },
  {
   "cell_type": "markdown",
   "id": "098dc8c7",
   "metadata": {},
   "source": [
    "**Ans:**"
   ]
  },
  {
   "cell_type": "markdown",
   "id": "fc700dab",
   "metadata": {},
   "source": []
  },
  {
   "cell_type": "markdown",
   "id": "6872c559",
   "metadata": {},
   "source": []
  },
  {
   "cell_type": "markdown",
   "id": "1a4d1393-ca1d-424b-aba7-a8b3407ac218",
   "metadata": {
    "tags": []
   },
   "source": [
    "#### 5. What is the purpose of the `__init__` method?"
   ]
  },
  {
   "cell_type": "markdown",
   "id": "098dc8c7",
   "metadata": {},
   "source": [
    "**Ans:**"
   ]
  },
  {
   "cell_type": "markdown",
   "id": "f4355ad3",
   "metadata": {},
   "source": []
  },
  {
   "cell_type": "markdown",
   "id": "d050f712",
   "metadata": {},
   "source": []
  },
  {
   "cell_type": "markdown",
   "id": "86e9f871-c702-4f0d-8108-009371f2d290",
   "metadata": {
    "tags": []
   },
   "source": [
    "#### 6. What is the process for creating a class instance?"
   ]
  },
  {
   "cell_type": "markdown",
   "id": "1eebc810",
   "metadata": {},
   "source": [
    "**Ans:** "
   ]
  },
  {
   "cell_type": "markdown",
   "id": "a67fa08f",
   "metadata": {},
   "source": []
  },
  {
   "cell_type": "markdown",
   "id": "ea5d7dee",
   "metadata": {},
   "source": []
  },
  {
   "cell_type": "markdown",
   "id": "d24a825c-2479-4fbc-901e-3ded8639e7d5",
   "metadata": {
    "tags": []
   },
   "source": [
    "#### 7. What is the process for creating a class?"
   ]
  },
  {
   "cell_type": "markdown",
   "id": "098dc8c7",
   "metadata": {},
   "source": [
    "**Ans:**"
   ]
  },
  {
   "cell_type": "markdown",
   "id": "94672883",
   "metadata": {},
   "source": []
  },
  {
   "cell_type": "markdown",
   "id": "1fac74c5",
   "metadata": {},
   "source": []
  },
  {
   "cell_type": "markdown",
   "id": "dc9a51c3-423f-4662-b6be-549c3d6c5b19",
   "metadata": {
    "tags": []
   },
   "source": [
    "#### 8. How would you define the superclasses of a class?"
   ]
  },
  {
   "cell_type": "markdown",
   "id": "098dc8c7",
   "metadata": {},
   "source": [
    "**Ans:**"
   ]
  }
 ],
 "metadata": {
  "kernelspec": {
   "display_name": "Python 3 (ipykernel)",
   "language": "python",
   "name": "python3"
  },
  "language_info": {
   "codemirror_mode": {
    "name": "ipython",
    "version": 3
   },
   "file_extension": ".py",
   "mimetype": "text/x-python",
   "name": "python",
   "nbconvert_exporter": "python",
   "pygments_lexer": "ipython3",
   "version": "3.9.7"
  }
 },
 "nbformat": 4,
 "nbformat_minor": 5
}
