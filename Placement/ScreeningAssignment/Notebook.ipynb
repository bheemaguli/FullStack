{
 "cells": [
  {
   "cell_type": "markdown",
   "metadata": {},
   "source": [
    "# Python Screening Assignment\n",
    "Date: 06-06-2022"
   ]
  },
  {
   "cell_type": "markdown",
   "metadata": {},
   "source": [
    "####  Q1. Create a function in python to read the text file and replace specific content of the file.\n",
    "|File name|example.txt|\n",
    "|-----|-----|\n",
    "|Origin file content|`This is a placement assignment`|\n",
    "|Replace string|*placement* should be replaced by *screening*.|\n",
    "|Replaced file content|`This is a screening assignment`|"
   ]
  },
  {
   "cell_type": "markdown",
   "metadata": {},
   "source": [
    "**Ans:**"
   ]
  },
  {
   "cell_type": "code",
   "execution_count": 1,
   "metadata": {},
   "outputs": [],
   "source": [
    "# %load example.txt\n",
    "This is a placement assignment."
   ]
  },
  {
   "cell_type": "code",
   "execution_count": 2,
   "metadata": {},
   "outputs": [],
   "source": [
    "def replace_content(file_path, content_val, replacement_val):\n",
    "    with open(file_path, 'r+') as textDoc:\n",
    "        textFile = textDoc.read()\n",
    "        textFile = str.replace(textFile, content_val, replacement_val)\n",
    "        textDoc.seek(0)\n",
    "        textDoc.write(textFile)\n",
    "        textDoc.close()       "
   ]
  },
  {
   "cell_type": "code",
   "execution_count": 3,
   "metadata": {},
   "outputs": [],
   "source": [
    "replace_content('example.txt', 'placement', 'screening')"
   ]
  },
  {
   "cell_type": "code",
   "execution_count": 4,
   "metadata": {},
   "outputs": [],
   "source": [
    "# %load example.txt\n",
    "This is a screening assignment."
   ]
  },
  {
   "cell_type": "markdown",
   "metadata": {},
   "source": [
    "<br><br>"
   ]
  },
  {
   "cell_type": "markdown",
   "metadata": {},
   "source": [
    "####  Q2. Demonstrate use of abstract class, multiple inheritance and decorator in python using examples."
   ]
  },
  {
   "cell_type": "markdown",
   "metadata": {},
   "source": [
    "**Ans:**\n",
    "\n",
    "* Abstract Class<br>\n",
    "Consider we want to create a program that gives details of the snacks (panipuri, masalapuri, rasgulla, etc). Here, the constant parameter that is common among all the serving is the a vessel on which you eat and the tool that eat it with.<br><br>Lets take Masala Puri for example. How is it generally served? If you answered plate and spoon, you are right! It is a common serving method at a street side or in a hotel. If you didn't however, please let me know your ingenious idea of serving it :)<br>Now, conside a snack like MysurPak. It is not uncommon to serve in a sheet of paper from which you eat with with your bare hand. So here, the vessel will be a paper sheet and the tool you use to eat with is your hand, after a handwashed ofcourse.<br>\n",
    "Lets construct a abstract class with this idea."
   ]
  },
  {
   "cell_type": "code",
   "execution_count": 5,
   "metadata": {},
   "outputs": [],
   "source": [
    "from abc import ABC, abstractmethod\n",
    "\n",
    "class Snacks(ABC):\n",
    "    def __init__(self, vessel, cutlery):\n",
    "        self.vessel = vessel\n",
    "        self.cutlery = cutlery\n",
    "        \n",
    "    @property\n",
    "    def served_in(self):\n",
    "        if self.cutlery:\n",
    "            return f'Your chats is served in {self.vessel} and you can eat it with {self.cutlery}.'\n",
    "        return f'Your chats is served in {self.vessel} and you can eat it with your hand.'\n",
    "    \n",
    "    @abstractmethod\n",
    "    def get_snack(self):\n",
    "        pass"
   ]
  },
  {
   "cell_type": "code",
   "execution_count": 6,
   "metadata": {},
   "outputs": [],
   "source": [
    "# From chats stall\n",
    "class Chats(Snacks):\n",
    "    def __init__(self, vessel, cutlery, snack_name):\n",
    "        super().__init__(vessel, cutlery)\n",
    "        self.snack_name = snack_name\n",
    "        \n",
    "    def get_snack(self):\n",
    "        return f'{self.snack_name} order confirmed from Chats Stall.'\n",
    "\n",
    "# From sweet stall\n",
    "class Sweets(Snacks):\n",
    "    def __init__(self, vessel, cutlery, snack_name):\n",
    "        super().__init__(vessel, cutlery)\n",
    "        self.snack_name = snack_name\n",
    "                \n",
    "    def get_snack(self):\n",
    "        return f'{self.snack_name} order confirmed from Sweet Stall.'"
   ]
  },
  {
   "cell_type": "code",
   "execution_count": 7,
   "metadata": {},
   "outputs": [],
   "source": [
    "class Orders:\n",
    "    def __init__(self):\n",
    "        self.SnackList = []\n",
    "\n",
    "    def add(self, Snacks):\n",
    "        self.SnackList.append(Snacks)\n",
    "\n",
    "    def print(self):\n",
    "        for e in self.SnackList:\n",
    "            print(f\"{e.get_snack()} {e.served_in}\")"
   ]
  },
  {
   "cell_type": "code",
   "execution_count": 8,
   "metadata": {},
   "outputs": [
    {
     "name": "stdout",
     "output_type": "stream",
     "text": [
      "Panipuri order confirmed from Chats Stall. Your chats is served in plate and you can eat it with spoon.\n",
      "Masalapuri order confirmed from Chats Stall. Your chats is served in plate and you can eat it with spoon.\n",
      "MysurPak order confirmed from Sweet Stall. Your chats is served in paper and you can eat it with your hand.\n",
      "Rasgulla order confirmed from Sweet Stall. Your chats is served in Plastic Bowl and you can eat it with plastic spoon.\n"
     ]
    }
   ],
   "source": [
    "orders = Orders()\n",
    "\n",
    "orders.add(Chats('plate', 'spoon', 'Panipuri'))\n",
    "orders.add(Chats('plate', 'spoon', 'Masalapuri'))\n",
    "orders.add(Sweets('paper', '', 'MysurPak'))\n",
    "orders.add(Sweets('Plastic Bowl', 'plastic spoon', 'Rasgulla'))\n",
    "\n",
    "orders.print()"
   ]
  },
  {
   "cell_type": "markdown",
   "metadata": {},
   "source": [
    "* Multiple Inheritance<br>\n",
    "Here, a class inherits from more than one base class and can be of any combination of multiple inheritance whose configuration is done as per user requirement. This can be useful as well as troublesome as one inherited class definations can be overwritten by the other one if not written properly.<br>\n",
    "Consider new class **`Chats`** and **`Sweets`** derived from class **`Snacks`**. Since both class has similar structure, lets create another class called **`Evening_Menu`**"
   ]
  },
  {
   "cell_type": "code",
   "execution_count": 9,
   "metadata": {},
   "outputs": [],
   "source": [
    "class Snacks:\n",
    "    def menu(self):\n",
    "        print(\"This is all Snacks\")\n",
    "       \n",
    "class Chats(Snacks):\n",
    "    def menu(self):\n",
    "        print(\"This is Chats\")\n",
    "        \n",
    "class Sweets(Snacks):\n",
    "    def menu(self):\n",
    "        print(\"This is Sweets\")\n",
    "         \n",
    "class Evening_Menu(Chats, Sweets):\n",
    "    pass  "
   ]
  },
  {
   "cell_type": "code",
   "execution_count": 10,
   "metadata": {},
   "outputs": [
    {
     "name": "stdout",
     "output_type": "stream",
     "text": [
      "This is Chats\n"
     ]
    }
   ],
   "source": [
    "menu = Evening_Menu()\n",
    "menu.menu()"
   ]
  },
  {
   "cell_type": "markdown",
   "metadata": {},
   "source": [
    "vs"
   ]
  },
  {
   "cell_type": "code",
   "execution_count": 11,
   "metadata": {},
   "outputs": [],
   "source": [
    "class Snacks:\n",
    "    def menu(self):\n",
    "        print(\"This is all Snacks\")\n",
    "       \n",
    "class Chats(Snacks):\n",
    "    def menu(self):\n",
    "        print(\"This is Chats\")\n",
    "        \n",
    "class Sweets(Snacks):\n",
    "    def menu(self):\n",
    "        print(\"This is Sweets\")\n",
    "         \n",
    "class Evening_Menu(Sweets, Chats):\n",
    "    pass  "
   ]
  },
  {
   "cell_type": "code",
   "execution_count": 12,
   "metadata": {},
   "outputs": [
    {
     "name": "stdout",
     "output_type": "stream",
     "text": [
      "This is Sweets\n"
     ]
    }
   ],
   "source": [
    "menu = Evening_Menu()\n",
    "menu.menu()"
   ]
  },
  {
   "cell_type": "markdown",
   "metadata": {},
   "source": [
    "The only change here is the orger of inheritance mentioned during `Evening_Menu` declaration that is `Evening_Menu(Chats, Sweets)` vs `Evening_Menu(Sweets, Chats)`"
   ]
  },
  {
   "cell_type": "markdown",
   "metadata": {},
   "source": [
    "* Decorators in Python"
   ]
  }
 ],
 "metadata": {
  "interpreter": {
   "hash": "179b531fd51cb840b1669fa15c6c12277dbc2508cc1c2970b9047c84f8c3ff94"
  },
  "kernelspec": {
   "display_name": "Python 3.10.4 ('default')",
   "language": "python",
   "name": "python3"
  },
  "language_info": {
   "codemirror_mode": {
    "name": "ipython",
    "version": 3
   },
   "file_extension": ".py",
   "mimetype": "text/x-python",
   "name": "python",
   "nbconvert_exporter": "python",
   "pygments_lexer": "ipython3",
   "version": "3.10.4"
  },
  "orig_nbformat": 4
 },
 "nbformat": 4,
 "nbformat_minor": 2
}
