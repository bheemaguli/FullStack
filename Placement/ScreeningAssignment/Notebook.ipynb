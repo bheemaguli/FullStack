{
 "cells": [
  {
   "cell_type": "markdown",
   "metadata": {},
   "source": [
    "# Python Screening Assignment\n",
    "Date: 06-06-2022"
   ]
  },
  {
   "cell_type": "markdown",
   "metadata": {},
   "source": [
    "####  Q1. Create a function in python to read the text file and replace specific content of the file.\n",
    "|File name|example.txt|\n",
    "|-----|-----|\n",
    "|Origin file content|`This is a placement assignment`|\n",
    "|Replace string|*placement* should be replaced by *screening*.|\n",
    "|Replaced file content|`This is a screening assignment`|"
   ]
  },
  {
   "cell_type": "markdown",
   "metadata": {},
   "source": [
    "**Ans:**"
   ]
  },
  {
   "cell_type": "code",
   "execution_count": 3,
   "metadata": {},
   "outputs": [],
   "source": [
    "%load example.txt"
   ]
  },
  {
   "cell_type": "code",
   "execution_count": 8,
   "metadata": {},
   "outputs": [],
   "source": [
    "def replace_content(file_path, content_val, replacement_val):\n",
    "    with open(file_path, 'r+') as textDoc:\n",
    "        textFile = textDoc.read()\n",
    "        textFile = str.replace(textFile, content_val, replacement_val)\n",
    "        textDoc.seek(0)\n",
    "        textDoc.write(textFile)\n",
    "        textDoc.close()       "
   ]
  },
  {
   "cell_type": "code",
   "execution_count": 9,
   "metadata": {},
   "outputs": [],
   "source": [
    "replace_content('example.txt', 'placement', 'screening')"
   ]
  },
  {
   "cell_type": "code",
   "execution_count": 10,
   "metadata": {},
   "outputs": [],
   "source": [
    "%load example.txt"
   ]
  },
  {
   "cell_type": "markdown",
   "metadata": {},
   "source": [
    "<br><br>"
   ]
  },
  {
   "cell_type": "markdown",
   "metadata": {},
   "source": [
    "####  Q2. Demonstrate use of abstract class, multiple inheritance and decorator in python using examples."
   ]
  },
  {
   "cell_type": "markdown",
   "metadata": {},
   "source": [
    "**Ans:**\n",
    "\n",
    "* Abstract Class<br>\n",
    "Consider we want to create a program that gives details of the snacks (panipuri, masalapuri, rasgulla, etc). Here, the constant parameter that is common among all the serving is the a vessel on which you eat and the tool that eat it with.<br><br>Lets take Masala Puri for example. How is it generally served? If you answered plate and spoon, you are right! It is a common serving method in the street side or in a hotel. If you didn't however, please let me know your ingeneous idea of serving it :)<br>\n",
    "Now, conside a snack like Dilpasand. It is not uncommon to serve in a sheet of paper from which you eat with with your bare hand. So here, the vessel will be a paper sheet and the tool you use to eat with is your hand, after a handwashed ofcourse.<br>\n",
    "Lets construct a abstract class with this idea."
   ]
  },
  {
   "cell_type": "code",
   "execution_count": 3,
   "metadata": {},
   "outputs": [],
   "source": [
    "from abc import ABC, abstractmethod\n",
    "\n",
    "class Snacks(ABC):\n",
    "    def utensils(self, vessel, cutlery):\n",
    "        self.vessel = vessel\n",
    "        self.cutlery = cutlery\n",
    "        \n",
    "    @property\n",
    "    def served_in(self):\n",
    "        return f'Your chats is served in {self.vessel} and you can eat it with {self.cutlery}.'\n",
    "    \n",
    "    @abstractmethod\n",
    "    def Snacks_n_Ingredients(self):\n",
    "        pass"
   ]
  },
  {
   "cell_type": "code",
   "execution_count": null,
   "metadata": {},
   "outputs": [],
   "source": []
  }
 ],
 "metadata": {
  "interpreter": {
   "hash": "179b531fd51cb840b1669fa15c6c12277dbc2508cc1c2970b9047c84f8c3ff94"
  },
  "kernelspec": {
   "display_name": "Python 3.10.4 ('default')",
   "language": "python",
   "name": "python3"
  },
  "language_info": {
   "codemirror_mode": {
    "name": "ipython",
    "version": 3
   },
   "file_extension": ".py",
   "mimetype": "text/x-python",
   "name": "python",
   "nbconvert_exporter": "python",
   "pygments_lexer": "ipython3",
   "version": "3.10.4"
  },
  "orig_nbformat": 4
 },
 "nbformat": 4,
 "nbformat_minor": 2
}
