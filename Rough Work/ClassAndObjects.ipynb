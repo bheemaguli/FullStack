{
 "cells": [
  {
   "cell_type": "markdown",
   "metadata": {},
   "source": [
    "Create a class for dictionary parsing\n",
    "1. Write a function to give all the keys\n",
    "2. Write a function to give all values\n",
    "3. Write a function to throw an exception in case of input is not dictionary\n",
    "4. Write a function to take user input and then paese a key and value of dictionary\n",
    "5. Write a function to insert new key value pair into dictionary"
   ]
  },
  {
   "cell_type": "code",
   "execution_count": 3,
   "metadata": {},
   "outputs": [],
   "source": [
    "class PlayWithDictionary:\n",
    "    def __init__(self, dictionary):\n",
    "        self.dictioanry = dictionary\n",
    "    \n",
    "    def ReturnKeys(self):\n",
    "        if type(self.dictioanry) == dict:\n",
    "            return self.dictioanry.keys"
   ]
  },
  {
   "cell_type": "markdown",
   "metadata": {},
   "source": []
  }
 ],
 "metadata": {
  "interpreter": {
   "hash": "d0d43860665baa26cd998e210bb5f949c374c363b141cb52dd7ace6edf5b1fb7"
  },
  "kernelspec": {
   "display_name": "Python 3.9.7 64-bit ('fullstack': conda)",
   "language": "python",
   "name": "python3"
  },
  "language_info": {
   "codemirror_mode": {
    "name": "ipython",
    "version": 3
   },
   "file_extension": ".py",
   "mimetype": "text/x-python",
   "name": "python",
   "nbconvert_exporter": "python",
   "pygments_lexer": "ipython3",
   "version": "3.9.7"
  },
  "orig_nbformat": 4
 },
 "nbformat": 4,
 "nbformat_minor": 2
}
