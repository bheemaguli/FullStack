{
 "cells": [
  {
   "cell_type": "markdown",
   "id": "f34a365b-91ef-4ff4-b617-ddc430284dee",
   "metadata": {
    "tags": []
   },
   "source": [
    "# *1.What are the two values of the Boolean data type? How do you write them?*"
   ]
  },
  {
   "cell_type": "markdown",
   "id": "34d59ad5-8189-4284-a341-a426da6d5f9a",
   "metadata": {},
   "source": [
    "    True|1 and False|0"
   ]
  },
  {
   "cell_type": "markdown",
   "id": "f736ab0a-8652-400a-a120-25d927e9759e",
   "metadata": {},
   "source": [
    " "
   ]
  },
  {
   "cell_type": "markdown",
   "id": "fcc90c91-42ec-45a9-8a29-ee6384cd2ab9",
   "metadata": {
    "tags": []
   },
   "source": [
    "# *2. What are the three different types of Boolean operators?*"
   ]
  },
  {
   "cell_type": "markdown",
   "id": "a89b3d49-1c89-4acb-ad31-904c9eb5bce4",
   "metadata": {},
   "source": [
    "    and(&&), or(||) & not"
   ]
  },
  {
   "cell_type": "markdown",
   "id": "7fadba05-ba93-4b9b-82e2-56fd8ba7ec6e",
   "metadata": {},
   "source": [
    " "
   ]
  },
  {
   "cell_type": "markdown",
   "id": "93c6e286-6b75-40a2-a2cd-02b2e0f414fc",
   "metadata": {
    "tags": []
   },
   "source": [
    "# *3. Make a list of each Boolean operator's truth tables (i.e. every possible combination of Boolean values for the operator and what it evaluate ).*"
   ]
  },
  {
   "cell_type": "code",
   "execution_count": 1,
   "id": "6636e039-8aa5-4169-907b-f9ee77e1260d",
   "metadata": {},
   "outputs": [
    {
     "name": "stdout",
     "output_type": "stream",
     "text": [
      " \t\tAND\n",
      "    0\t0\t0\n",
      "    0\t1\t0\n",
      "    1\t0\t0\n",
      "    1\t1\t1\n"
     ]
    }
   ],
   "source": [
    "print(\" \\t\\t\" + \"AND\")\n",
    "for i in [0,1]:\n",
    "    for j in [0,1]:\n",
    "        print(\"    \"+ str(i) + \"\\t\" + str(j) + \"\\t\" + str(i and j) )"
   ]
  },
  {
   "cell_type": "code",
   "execution_count": 2,
   "id": "e61f6928-aef5-4d3c-9903-5d3671cd1330",
   "metadata": {},
   "outputs": [
    {
     "name": "stdout",
     "output_type": "stream",
     "text": [
      " \t\tOR\n",
      "    0\t0\t0\n",
      "    0\t1\t1\n",
      "    1\t0\t1\n",
      "    1\t1\t1\n"
     ]
    }
   ],
   "source": [
    "print(\" \\t\\t\" + \"OR\")\n",
    "for i in [0,1]:\n",
    "    for j in [0,1]:\n",
    "        print(\"    \"+ str(i) + \"\\t\" + str(j) + \"\\t\" + str(i or j) )"
   ]
  },
  {
   "cell_type": "code",
   "execution_count": 3,
   "id": "212889bb-56e4-41f6-9955-2774f5eaf7b2",
   "metadata": {},
   "outputs": [
    {
     "name": "stdout",
     "output_type": "stream",
     "text": [
      " \tNOT\n",
      "    0\t1\n",
      "    1\t0\n"
     ]
    }
   ],
   "source": [
    "print(\" \\t\" + \"NOT\")\n",
    "for i in [0,1]:\n",
    "        print(\"    \"+ str(i) + \"\\t\" + str(int(not i)))"
   ]
  },
  {
   "cell_type": "markdown",
   "id": "bfa9b006-6b3f-4371-a406-c0bc90a9a722",
   "metadata": {},
   "source": [
    " "
   ]
  },
  {
   "cell_type": "markdown",
   "id": "ac27a2d1-45c4-487b-aafd-219419a46af3",
   "metadata": {
    "jp-MarkdownHeadingCollapsed": true,
    "tags": []
   },
   "source": [
    "# *4. What are the values of the following expressions?*\n",
    "#### *(5 > 4) and (3 == 5)*\n",
    "#### *not (5 > 4)*\n",
    "#### *(5 > 4) or (3 == 5)*\n",
    "#### *not ((5 > 4) or (3 == 5))*\n",
    "#### *(True and True) and (True == False)*\n",
    "#### *(not False) or (not True)*"
   ]
  },
  {
   "cell_type": "code",
   "execution_count": 4,
   "id": "d3d74091-86a4-4343-8229-97f940df55c4",
   "metadata": {},
   "outputs": [
    {
     "name": "stdout",
     "output_type": "stream",
     "text": [
      "(5 > 4) and (3 == 5)                 =\tFalse\n",
      "not (5 > 4)                          =\tFalse\n",
      "(5 > 4) or (3 == 5)                  =\tTrue\n",
      "not ((5 > 4) or (3 == 5))            =\tFalse\n",
      "(True and True) and (True == False)  =\tFalse\n",
      "(not False) or (not True)            =\tTrue\n"
     ]
    }
   ],
   "source": [
    "print('(5 > 4) and (3 == 5)                 =\\t' + str((5 > 4) and (3 == 5)))\n",
    "print('not (5 > 4)                          =\\t' + str(not (5 > 4)))\n",
    "print('(5 > 4) or (3 == 5)                  =\\t' + str((5 > 4) or (3 == 5)))\n",
    "print('not ((5 > 4) or (3 == 5))            =\\t' + str(not ((5 > 4) or (3 == 5))))\n",
    "print('(True and True) and (True == False)  =\\t' + str((True and True) and (True == False)))\n",
    "print('(not False) or (not True)            =\\t' + str((not False) or (not True)))"
   ]
  },
  {
   "cell_type": "markdown",
   "id": "c0c330aa-9608-4c71-8a04-86da36b68ade",
   "metadata": {},
   "source": [
    " "
   ]
  },
  {
   "cell_type": "markdown",
   "id": "1a4d1393-ca1d-424b-aba7-a8b3407ac218",
   "metadata": {
    "tags": []
   },
   "source": [
    "# *5. What are the six comparison operators?*"
   ]
  },
  {
   "cell_type": "markdown",
   "id": "75050b36-4cb6-469e-9763-37bd7af59018",
   "metadata": {},
   "source": [
    "    Less than ( < )\n",
    "    Less than or equal to (<=)\n",
    "    Greater than (>)\n",
    "    Greater than or equal to (>=)\n",
    "    Equal to ( == )\n",
    "    Not equal to ( != )"
   ]
  },
  {
   "cell_type": "markdown",
   "id": "740bebef-a66a-4b6c-aa72-304505c0ece3",
   "metadata": {},
   "source": [
    " "
   ]
  },
  {
   "cell_type": "markdown",
   "id": "86e9f871-c702-4f0d-8108-009371f2d290",
   "metadata": {
    "tags": []
   },
   "source": [
    "# *6. How do you tell the difference between the equal to and assignment operators?Describe a condition and when you would use one.*"
   ]
  },
  {
   "cell_type": "markdown",
   "id": "af6c86bf-4e0a-4285-b016-f76dd1c51f3b",
   "metadata": {},
   "source": [
    "    equal to done with '==' and assignment is done with '='"
   ]
  },
  {
   "cell_type": "markdown",
   "id": "8954a6a3-9446-4481-87c1-990b19be1d23",
   "metadata": {},
   "source": [
    " "
   ]
  },
  {
   "cell_type": "markdown",
   "id": "d24a825c-2479-4fbc-901e-3ded8639e7d5",
   "metadata": {
    "tags": []
   },
   "source": [
    "# *7. Identify the three blocks in this code:*\n",
    "#### *spam = 0*\n",
    "#### *if spam == 10:*\n",
    "#### *print('eggs')*\n",
    "#### *if spam > 5:*\n",
    "#### *print('bacon')*\n",
    "#### *else:*\n",
    "#### *print('ham')*\n",
    "#### *print('spam')*\n",
    "#### *print('spam')*"
   ]
  },
  {
   "cell_type": "markdown",
   "id": "07c6871a-f7af-4803-98a8-6a5f5d0adee2",
   "metadata": {},
   "source": [
    "    Since Python is heavily dependent on indentation, above text will not yield correct understanding."
   ]
  },
  {
   "cell_type": "code",
   "execution_count": 5,
   "id": "769a7f6b-cedd-4cd4-b9d0-932f3db16488",
   "metadata": {},
   "outputs": [
    {
     "name": "stdout",
     "output_type": "stream",
     "text": [
      "Kachori\n",
      "and Samosa\n",
      "with\n",
      "chutney\n"
     ]
    }
   ],
   "source": [
    "spam = 10\n",
    "# Block 1\n",
    "if spam == 10:\n",
    "    print('Kachori')\n",
    "    if spam > 5:\n",
    "        # Block 2\n",
    "        print('and Samosa')\n",
    "    else:\n",
    "        # Block 3\n",
    "        print('sweet')\n",
    "    print('with')\n",
    "print('chutney')"
   ]
  },
  {
   "cell_type": "markdown",
   "id": "4b15cadb-022f-413e-8e24-5f39f322eafb",
   "metadata": {},
   "source": [
    " "
   ]
  },
  {
   "cell_type": "markdown",
   "id": "dc9a51c3-423f-4662-b6be-549c3d6c5b19",
   "metadata": {
    "tags": []
   },
   "source": [
    "# *8. Write code that prints Hello if 1 is stored in spam, prints Howdy if 2 is stored in spam, and prints Greetings! if anything else is stored in spam.*"
   ]
  },
  {
   "cell_type": "code",
   "execution_count": 6,
   "id": "02933d39-bd63-4bd4-9835-81b8080d354c",
   "metadata": {},
   "outputs": [
    {
     "name": "stdout",
     "output_type": "stream",
     "text": [
      "spam = 1\tHello\n",
      "spam = 2\tHowdy\n",
      "spam = 3\tGreetings!\n"
     ]
    }
   ],
   "source": [
    "for i in range(1,4):\n",
    "    spam = i\n",
    "    print('spam = ' + str(spam), end='\\t')\n",
    "    if spam == 1:\n",
    "        print('Hello')\n",
    "    elif spam == 2:\n",
    "        print('Howdy')\n",
    "    else:\n",
    "        print('Greetings!')"
   ]
  },
  {
   "cell_type": "markdown",
   "id": "c3c8c118-6acd-4e1c-a4c1-aba38dfba072",
   "metadata": {},
   "source": [
    " "
   ]
  },
  {
   "cell_type": "markdown",
   "id": "b94df74c-df86-48ac-870a-28de89646c56",
   "metadata": {
    "tags": []
   },
   "source": [
    "# *9.If your programme is stuck in an endless loop, what keys you’ll press?*"
   ]
  },
  {
   "cell_type": "markdown",
   "id": "0b42b844-1b0d-4632-89a9-ae6adb1ec0a6",
   "metadata": {},
   "source": [
    "    For jupyter notebook, pressing I,I will do the job. In terminal/command line Ctrl+C will work."
   ]
  },
  {
   "cell_type": "markdown",
   "id": "9a574cee-e2ed-4aca-b498-ea4277ec20e8",
   "metadata": {},
   "source": [
    " "
   ]
  },
  {
   "cell_type": "markdown",
   "id": "52ba5e8f-2b57-4ec9-a01e-a95f4470d5d3",
   "metadata": {
    "tags": []
   },
   "source": [
    "# *10. How can you tell the difference between break and continue?*"
   ]
  },
  {
   "cell_type": "markdown",
   "id": "62fff28d-9c1e-4673-bd8e-5c06eb570a95",
   "metadata": {},
   "source": [
    "    If the compiler exits from the loop midway, we can suspect that 'break' is being used. If few of the iteration gets skipped in a loop, 'continue' is being used."
   ]
  },
  {
   "cell_type": "code",
   "execution_count": 7,
   "id": "c3dce635-f299-4cd6-95b2-a1210286bd44",
   "metadata": {},
   "outputs": [
    {
     "name": "stdout",
     "output_type": "stream",
     "text": [
      "0\n",
      "1\n",
      "2\n",
      "4\n",
      "6\n",
      "7\n",
      "8\n",
      "9\n"
     ]
    }
   ],
   "source": [
    "for i in range(10):\n",
    "    if i == 5 or i == 3:\n",
    "        continue\n",
    "    else:\n",
    "        print(i)"
   ]
  },
  {
   "cell_type": "code",
   "execution_count": 8,
   "id": "49a132c3-8f81-42b1-9de6-7f7a7e1ca602",
   "metadata": {},
   "outputs": [
    {
     "name": "stdout",
     "output_type": "stream",
     "text": [
      "0\n",
      "1\n",
      "2\n"
     ]
    }
   ],
   "source": [
    "for i in range(10):\n",
    "    if i == 5 or i == 3:\n",
    "        break\n",
    "    else:\n",
    "        print(i)"
   ]
  },
  {
   "cell_type": "markdown",
   "id": "05d02a63-501f-483f-bdda-d5a76264b544",
   "metadata": {},
   "source": [
    " "
   ]
  },
  {
   "cell_type": "markdown",
   "id": "dcf83951-0bc2-493d-a4a4-e227e1f3979d",
   "metadata": {
    "tags": []
   },
   "source": [
    "# *11. In a for loop, what is the difference between range(10), range(0, 10), and range(0, 10, 1)?*"
   ]
  },
  {
   "cell_type": "markdown",
   "id": "dd7b1252-4221-41aa-bdc5-ed8c02c2c388",
   "metadata": {},
   "source": [
    "    range is declared with range(start, stop[, step])\n",
    "    By default, range with single number as in range(10) will be considered as range(0,10,1)\n",
    "    If two numbers are provided, step is by default taken as 1 as in range(0,10) is same as range(0,10,1)\n",
    "    range(0,10,1) has start=0, stop=10 and strp=1"
   ]
  },
  {
   "cell_type": "markdown",
   "id": "9bf43129-fe9f-4dec-8202-291790d0ae63",
   "metadata": {},
   "source": [
    " "
   ]
  },
  {
   "cell_type": "markdown",
   "id": "fd48e5b0-66c4-4405-8541-aa4c335a3fc6",
   "metadata": {
    "tags": []
   },
   "source": [
    "# *12. Write a short program that prints the numbers 1 to 10 using a for loop. Then write an equivalent program that prints the numbers 1 to 10 using a while loop.*"
   ]
  },
  {
   "cell_type": "code",
   "execution_count": 9,
   "id": "7cbe3b73-e701-4f0a-ad0c-0848c74f37dd",
   "metadata": {},
   "outputs": [
    {
     "name": "stdout",
     "output_type": "stream",
     "text": [
      "1\n",
      "2\n",
      "3\n",
      "4\n",
      "5\n",
      "6\n",
      "7\n",
      "8\n",
      "9\n",
      "10\n"
     ]
    }
   ],
   "source": [
    "for i in range(1,11,1):\n",
    "    print(i)"
   ]
  },
  {
   "cell_type": "code",
   "execution_count": 10,
   "id": "8f2270de-d1e0-416f-8dce-2e58c37e2fd6",
   "metadata": {},
   "outputs": [
    {
     "name": "stdout",
     "output_type": "stream",
     "text": [
      "1\n",
      "2\n",
      "3\n",
      "4\n",
      "5\n",
      "6\n",
      "7\n",
      "8\n",
      "9\n",
      "10\n"
     ]
    }
   ],
   "source": [
    "i = 1\n",
    "while i<=10:\n",
    "    print(i)\n",
    "    i+=1"
   ]
  },
  {
   "cell_type": "markdown",
   "id": "31a240b6-fe7a-47f4-8e47-cee8b5c91dff",
   "metadata": {},
   "source": [
    " "
   ]
  },
  {
   "cell_type": "markdown",
   "id": "69538c02-3d15-4a7e-a8c5-fd94aaa1e1fa",
   "metadata": {
    "tags": []
   },
   "source": [
    "# *13. If you had a function named bacon() inside a module named spam, how would you call it after importing spam?*"
   ]
  },
  {
   "cell_type": "markdown",
   "id": "b53cb152-226a-4cdf-92d6-b30ad0bc4b1b",
   "metadata": {},
   "source": [
    "    import spam\n",
    "    spam.bacon()"
   ]
  }
 ],
 "metadata": {
  "kernelspec": {
   "display_name": "Python 3 (ipykernel)",
   "language": "python",
   "name": "python3"
  },
  "language_info": {
   "codemirror_mode": {
    "name": "ipython",
    "version": 3
   },
   "file_extension": ".py",
   "mimetype": "text/x-python",
   "name": "python",
   "nbconvert_exporter": "python",
   "pygments_lexer": "ipython3",
   "version": "3.9.7"
  }
 },
 "nbformat": 4,
 "nbformat_minor": 5
}
