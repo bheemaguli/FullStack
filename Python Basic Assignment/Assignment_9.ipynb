{
 "cells": [
  {
   "cell_type": "markdown",
   "metadata": {},
   "source": [
    "#### 1. To what does a relative path refer?"
   ]
  },
  {
   "cell_type": "markdown",
   "metadata": {},
   "source": [
    "**Ans:**  Relative paths are relative to the current working directory."
   ]
  },
  {
   "cell_type": "code",
   "execution_count": 7,
   "metadata": {},
   "outputs": [
    {
     "name": "stdout",
     "output_type": "stream",
     "text": [
      "/home/sumanthk/Documents/DSLearning/ineuron/FullStack/Python Basic Assignment\n"
     ]
    }
   ],
   "source": [
    "# and it can be found using\n",
    "import os\n",
    "print(os.getcwd())"
   ]
  },
  {
   "cell_type": "markdown",
   "metadata": {},
   "source": [
    " "
   ]
  },
  {
   "cell_type": "markdown",
   "metadata": {},
   "source": []
  },
  {
   "cell_type": "markdown",
   "metadata": {},
   "source": [
    "#### 2. What does an absolute path start with your operating system?"
   ]
  },
  {
   "cell_type": "markdown",
   "metadata": {},
   "source": [
    "**Ans:** Absolute paths start with the root folder, such as `/` or `C:\\`."
   ]
  },
  {
   "cell_type": "markdown",
   "metadata": {},
   "source": [
    " "
   ]
  },
  {
   "cell_type": "markdown",
   "metadata": {},
   "source": []
  },
  {
   "cell_type": "markdown",
   "metadata": {},
   "source": [
    "#### 3. What do the functions os.getcwd() and os.chdir() do?"
   ]
  },
  {
   "cell_type": "markdown",
   "metadata": {},
   "source": [
    "**Ans:** The `os.getcwd()` function returns the current working directory. The `os.chdir()` function changes the current working directory."
   ]
  },
  {
   "cell_type": "code",
   "execution_count": 38,
   "metadata": {},
   "outputs": [
    {
     "name": "stdout",
     "output_type": "stream",
     "text": [
      "/home/sumanthk/Documents/DSLearning/ineuron/FullStack/Python Basic Assignment\n",
      "/home/sumanthk/Documents\n"
     ]
    }
   ],
   "source": [
    "print(os.getcwd())\n",
    "\n",
    "os.chdir('/home/sumanthk/Documents/')\n",
    "print(os.getcwd())\n",
    "\n",
    "os.chdir('/home/sumanthk/Documents/DSLearning/ineuron/FullStack/Python Basic Assignment')\n",
    "# print(os.getcwd())"
   ]
  },
  {
   "cell_type": "markdown",
   "metadata": {},
   "source": [
    " "
   ]
  },
  {
   "cell_type": "markdown",
   "metadata": {},
   "source": []
  },
  {
   "cell_type": "markdown",
   "metadata": {},
   "source": [
    "#### 4. What are the `.` and `..` folders?"
   ]
  },
  {
   "cell_type": "markdown",
   "metadata": {},
   "source": [
    "**Ans:** The `.` folder is the **current folder**, and `..` is the **parent folder**."
   ]
  },
  {
   "cell_type": "code",
   "execution_count": 39,
   "metadata": {},
   "outputs": [
    {
     "name": "stdout",
     "output_type": "stream",
     "text": [
      "/home/sumanthk/Documents/DSLearning/ineuron/FullStack/Python Basic Assignment\n",
      "/home/sumanthk/Documents/DSLearning/ineuron/FullStack\n"
     ]
    }
   ],
   "source": [
    "os.chdir('.')\n",
    "print(os.getcwd())\n",
    "\n",
    "os.chdir('..')\n",
    "print(os.getcwd())\n",
    "\n",
    "os.chdir('/home/sumanthk/Documents/DSLearning/ineuron/FullStack/Python Basic Assignment')\n",
    "# print(os.getcwd())"
   ]
  },
  {
   "cell_type": "markdown",
   "metadata": {},
   "source": [
    " "
   ]
  },
  {
   "cell_type": "markdown",
   "metadata": {},
   "source": []
  },
  {
   "cell_type": "markdown",
   "metadata": {},
   "source": [
    "#### 5. In `C:\\bacon\\eggs\\spam.txt`, which part is the dir name, and which part is the base name?"
   ]
  },
  {
   "cell_type": "markdown",
   "metadata": {},
   "source": [
    "**Ans:** `C:\\bacon\\eggs` is the **dir name**, while `spam`.txt is the **base name**."
   ]
  },
  {
   "cell_type": "code",
   "execution_count": 47,
   "metadata": {},
   "outputs": [
    {
     "name": "stdout",
     "output_type": "stream",
     "text": [
      "/home/sumanthk/Documents/DSLearning/ineuron/FullStack/Python Basic Assignment\n",
      "/home/sumanthk/Documents/DSLearning/ineuron/FullStack / Python Basic Assignment\n"
     ]
    }
   ],
   "source": [
    "head, tail = os.path.split(os.getcwd())\n",
    "print(os.getcwd())\n",
    "print(head, tail, sep=' / ')"
   ]
  },
  {
   "cell_type": "markdown",
   "metadata": {},
   "source": [
    " "
   ]
  },
  {
   "cell_type": "markdown",
   "metadata": {},
   "source": []
  },
  {
   "cell_type": "markdown",
   "metadata": {},
   "source": [
    "#### 6. What are the three “mode” arguments that can be passed to the open() function?"
   ]
  },
  {
   "cell_type": "markdown",
   "metadata": {},
   "source": [
    "**Ans:** The string `'r'` for **read mode**, `'w'` for **write mode**, and `'a'` for **append mode**."
   ]
  },
  {
   "cell_type": "markdown",
   "metadata": {},
   "source": [
    " "
   ]
  },
  {
   "cell_type": "markdown",
   "metadata": {},
   "source": []
  },
  {
   "cell_type": "markdown",
   "metadata": {},
   "source": [
    "#### 7. What happens if an existing file is opened in *write* mode?"
   ]
  },
  {
   "cell_type": "markdown",
   "metadata": {},
   "source": [
    "\n",
    "**Ans:** An existing file opened in write mode is *erased* and *completely overwritten*."
   ]
  },
  {
   "cell_type": "markdown",
   "metadata": {},
   "source": [
    "\n",
    " "
   ]
  },
  {
   "cell_type": "markdown",
   "metadata": {},
   "source": []
  },
  {
   "cell_type": "markdown",
   "metadata": {},
   "source": [
    "#### 8. How do you tell the difference between read() and readlines()?"
   ]
  },
  {
   "cell_type": "markdown",
   "metadata": {},
   "source": [
    "**Ans:** The `read()` method returns the **file’s entire contents as a single string value**. The `readlines()` method returns a **list of strings, where each string is a line from the file’s contents**."
   ]
  },
  {
   "cell_type": "markdown",
   "metadata": {},
   "source": []
  },
  {
   "cell_type": "markdown",
   "metadata": {},
   "source": []
  },
  {
   "cell_type": "markdown",
   "metadata": {},
   "source": [
    "#### 9. What data structure does a shelf value resemble?"
   ]
  },
  {
   "cell_type": "markdown",
   "metadata": {},
   "source": [
    "**Ans:** A shelf value resembles a dictionary value; it has *keys* and *values*, along with `keys()` and `values()` methods that work similarly to the dictionary methods of the same names."
   ]
  }
 ],
 "metadata": {
  "interpreter": {
   "hash": "d0d43860665baa26cd998e210bb5f949c374c363b141cb52dd7ace6edf5b1fb7"
  },
  "kernelspec": {
   "display_name": "Python 3.9.7 64-bit ('fullstack': conda)",
   "language": "python",
   "name": "python3"
  },
  "language_info": {
   "codemirror_mode": {
    "name": "ipython",
    "version": 3
   },
   "file_extension": ".py",
   "mimetype": "text/x-python",
   "name": "python",
   "nbconvert_exporter": "python",
   "pygments_lexer": "ipython3",
   "version": "3.9.7"
  },
  "orig_nbformat": 4
 },
 "nbformat": 4,
 "nbformat_minor": 2
}
