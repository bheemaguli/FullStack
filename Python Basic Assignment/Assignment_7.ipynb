{
 "cells": [
  {
   "cell_type": "code",
   "execution_count": 103,
   "metadata": {},
   "outputs": [
    {
     "name": "stdout",
     "output_type": "stream",
     "text": [
      "Requirement already satisfied: regex in /home/sumanthk/miniconda3/envs/fullstack/lib/python3.9/site-packages (2022.1.18)\n"
     ]
    }
   ],
   "source": [
    "!pip install regex\n",
    "import regex as re"
   ]
  },
  {
   "cell_type": "markdown",
   "metadata": {},
   "source": []
  },
  {
   "cell_type": "markdown",
   "metadata": {},
   "source": [
    "#### 1. What is the name of the feature responsible for generating Regex objects?"
   ]
  },
  {
   "cell_type": "markdown",
   "metadata": {},
   "source": [
    "**Ans:** The **`re.compile()`** function returns Regex objects."
   ]
  },
  {
   "cell_type": "code",
   "execution_count": 104,
   "metadata": {},
   "outputs": [
    {
     "data": {
      "text/plain": [
       "regex.Regex('(?<=Samosa)(.+)', flags=regex.V0)"
      ]
     },
     "execution_count": 104,
     "metadata": {},
     "output_type": "execute_result"
    }
   ],
   "source": [
    "# For example, \n",
    "re.compile(\"(?<=Samosa)(.+)\")"
   ]
  },
  {
   "cell_type": "markdown",
   "metadata": {},
   "source": [
    " "
   ]
  },
  {
   "cell_type": "markdown",
   "metadata": {},
   "source": [
    "#### 2. Why do raw strings often appear in Regex objects?"
   ]
  },
  {
   "cell_type": "markdown",
   "metadata": {},
   "source": [
    "**Ans:** Raw strings are used so that backslashes do not have to be escaped."
   ]
  },
  {
   "cell_type": "code",
   "execution_count": 105,
   "metadata": {},
   "outputs": [
    {
     "name": "stdout",
     "output_type": "stream",
     "text": [
      "C:\\User\\Admin\n"
     ]
    }
   ],
   "source": [
    "print(r\"C:\\User\\Admin\")"
   ]
  },
  {
   "cell_type": "code",
   "execution_count": 106,
   "metadata": {},
   "outputs": [
    {
     "ename": "SyntaxError",
     "evalue": "(unicode error) 'unicodeescape' codec can't decode bytes in position 2-3: truncated \\UXXXXXXXX escape (4190375724.py, line 2)",
     "output_type": "error",
     "traceback": [
      "\u001b[0;36m  File \u001b[0;32m\"/tmp/ipykernel_11771/4190375724.py\"\u001b[0;36m, line \u001b[0;32m2\u001b[0m\n\u001b[0;31m    print(\"C:\\User\\Admin\")\u001b[0m\n\u001b[0m                         ^\u001b[0m\n\u001b[0;31mSyntaxError\u001b[0m\u001b[0;31m:\u001b[0m (unicode error) 'unicodeescape' codec can't decode bytes in position 2-3: truncated \\UXXXXXXXX escape\n"
     ]
    }
   ],
   "source": [
    "# vs\n",
    "print(\"C:\\User\\Admin\")"
   ]
  },
  {
   "cell_type": "markdown",
   "metadata": {},
   "source": [
    " "
   ]
  },
  {
   "cell_type": "markdown",
   "metadata": {},
   "source": [
    "#### 3. What is the return value of the search() method?"
   ]
  },
  {
   "cell_type": "markdown",
   "metadata": {},
   "source": [
    "**Ans:** The **`search()`** method returns Match objects."
   ]
  },
  {
   "cell_type": "code",
   "execution_count": null,
   "metadata": {},
   "outputs": [
    {
     "data": {
      "text/plain": [
       "<regex.Match object; span=(4, 5), match='2'>"
      ]
     },
     "execution_count": 69,
     "metadata": {},
     "output_type": "execute_result"
    }
   ],
   "source": [
    "re.search(\"\\d+\", \"One 2 Three 45 Six\")"
   ]
  },
  {
   "cell_type": "code",
   "execution_count": null,
   "metadata": {},
   "outputs": [
    {
     "data": {
      "text/plain": [
       "['2', '45']"
      ]
     },
     "execution_count": 6,
     "metadata": {},
     "output_type": "execute_result"
    }
   ],
   "source": [
    "re.findall(\"\\d+\", \"One 2 Three 45 Six\")"
   ]
  },
  {
   "cell_type": "markdown",
   "metadata": {},
   "source": [
    " "
   ]
  },
  {
   "cell_type": "markdown",
   "metadata": {},
   "source": [
    "#### 4. From a Match item, how do you get the actual strings that match the pattern?"
   ]
  },
  {
   "cell_type": "markdown",
   "metadata": {},
   "source": [
    "**Ans:** The **`group()`** method returns strings of the matched text."
   ]
  },
  {
   "cell_type": "code",
   "execution_count": 107,
   "metadata": {},
   "outputs": [
    {
     "name": "stdout",
     "output_type": "stream",
     "text": [
      "One 2\n",
      "One\n",
      "2\n"
     ]
    }
   ],
   "source": [
    "MatchObjects = re.match(\"(\\w+) (\\d+)\", \"One 2 Three 45 Six\")\n",
    "\n",
    "print(MatchObjects.group())\n",
    "print(MatchObjects.group(1))\n",
    "print(MatchObjects.group(2))"
   ]
  },
  {
   "cell_type": "markdown",
   "metadata": {},
   "source": [
    " "
   ]
  },
  {
   "cell_type": "markdown",
   "metadata": {},
   "source": [
    "#### 5. In the regex which created from the r'(\\d\\d\\d)-(\\d\\d\\d-\\d\\d\\d\\d)', what does group zero cover? Group 2? Group 1?"
   ]
  },
  {
   "cell_type": "markdown",
   "metadata": {},
   "source": [
    "**Ans:** Group 0 is the entire match, group 1 covers the first set of parentheses, and group 2 covers the second set of parentheses."
   ]
  },
  {
   "cell_type": "code",
   "execution_count": 108,
   "metadata": {},
   "outputs": [
    {
     "name": "stdout",
     "output_type": "stream",
     "text": [
      "group 0 :  012-345-6789\n",
      "group 1 :  012\n",
      "group 2 :  345-6789\n"
     ]
    }
   ],
   "source": [
    "MatchObjects =  re.match(r'(\\d\\d\\d)-(\\d\\d\\d-\\d\\d\\d\\d)', \"012-345-6789\")\n",
    "\n",
    "print(\"group 0 : \", MatchObjects.group(0))\n",
    "print(\"group 1 : \", MatchObjects.group(1))\n",
    "print(\"group 2 : \", MatchObjects.group(2))"
   ]
  },
  {
   "cell_type": "markdown",
   "metadata": {},
   "source": [
    " "
   ]
  },
  {
   "cell_type": "markdown",
   "metadata": {},
   "source": [
    "#### 6. In standard expression syntax, parentheses and intervals have distinct meanings. How can you tell a regex that you want it to fit real parentheses and periods?"
   ]
  },
  {
   "cell_type": "markdown",
   "metadata": {},
   "source": [
    "**Ans:** Periods and parentheses can be escaped with a backslash: `.`, `(`, and `)`."
   ]
  },
  {
   "cell_type": "code",
   "execution_count": 109,
   "metadata": {},
   "outputs": [
    {
     "name": "stdout",
     "output_type": "stream",
     "text": [
      "['(1)', '(2)']\n",
      "['1.2']\n"
     ]
    }
   ],
   "source": [
    "print(re.findall(\"\\(\\d+\\)\", \"(1), (2)\"))\n",
    "\n",
    "print(re.findall(\"\\d+\\.\\d+\", \"1.2\"))"
   ]
  },
  {
   "cell_type": "markdown",
   "metadata": {},
   "source": [
    " "
   ]
  },
  {
   "cell_type": "markdown",
   "metadata": {},
   "source": [
    "#### 7. The findall() method returns a string list or a list of string tuples. What causes it to return one of the two options?"
   ]
  },
  {
   "cell_type": "markdown",
   "metadata": {},
   "source": [
    "\n",
    "**Ans:** If the regex has no groups, a list of strings is returned. If the regex has groups, a list of tuples of strings is returned."
   ]
  },
  {
   "cell_type": "code",
   "execution_count": 110,
   "metadata": {},
   "outputs": [
    {
     "name": "stdout",
     "output_type": "stream",
     "text": [
      "<class 'str'>\n",
      "<class 'tuple'>\n"
     ]
    }
   ],
   "source": [
    "print(type(re.findall(\"\\d+\\.\\d+\", \"1.2\")[0]))\n",
    "print(type(re.findall(\"(\\d+)(.+)\", \"1.2\")[0]))"
   ]
  },
  {
   "cell_type": "markdown",
   "metadata": {},
   "source": [
    "\n",
    " "
   ]
  },
  {
   "cell_type": "markdown",
   "metadata": {},
   "source": [
    "#### 8. In standard expressions, what does the | character mean?"
   ]
  },
  {
   "cell_type": "markdown",
   "metadata": {},
   "source": [
    "**Ans:** The | character signifies matching “either, or” between two groups."
   ]
  },
  {
   "cell_type": "code",
   "execution_count": 111,
   "metadata": {},
   "outputs": [
    {
     "data": {
      "text/plain": [
       "['All', 'is', 'we', '11']"
      ]
     },
     "execution_count": 111,
     "metadata": {},
     "output_type": "execute_result"
    }
   ],
   "source": [
    "re.findall(\"\\d+|[A-Za-z]+\", \"All is we11\")"
   ]
  },
  {
   "cell_type": "markdown",
   "metadata": {},
   "source": []
  },
  {
   "cell_type": "markdown",
   "metadata": {},
   "source": [
    "#### 9. In regular expressions, what does the character stand for?"
   ]
  },
  {
   "cell_type": "markdown",
   "metadata": {},
   "source": [
    "**Ans:** The `?` character can either mean “match zero or one of the preceding group” or be used to signify non-greedy matching."
   ]
  },
  {
   "cell_type": "code",
   "execution_count": 112,
   "metadata": {},
   "outputs": [
    {
     "data": {
      "text/plain": [
       "['S',\n",
       " 'a',\n",
       " 'm',\n",
       " 'o',\n",
       " 's',\n",
       " 'a',\n",
       " ' ',\n",
       " 'w',\n",
       " 'i',\n",
       " 't',\n",
       " 'h',\n",
       " ' ',\n",
       " 'c',\n",
       " 'h',\n",
       " 'u',\n",
       " 't',\n",
       " 'n',\n",
       " 'e',\n",
       " 'y',\n",
       " '']"
      ]
     },
     "execution_count": 112,
     "metadata": {},
     "output_type": "execute_result"
    }
   ],
   "source": [
    "re.findall(\"(.?)\", \"Samosa with chutney\")"
   ]
  },
  {
   "cell_type": "markdown",
   "metadata": {},
   "source": []
  },
  {
   "cell_type": "markdown",
   "metadata": {},
   "source": [
    "#### 10. In regular expressions, what is the difference between the + and * characters?"
   ]
  },
  {
   "cell_type": "markdown",
   "metadata": {},
   "source": [
    "**Ans:** The `+` matches one or more. The `*` matches zero or more."
   ]
  },
  {
   "cell_type": "code",
   "execution_count": 113,
   "metadata": {},
   "outputs": [
    {
     "name": "stdout",
     "output_type": "stream",
     "text": [
      "['Samosa with chutney']\n",
      "['Samosa with chutney', '']\n"
     ]
    }
   ],
   "source": [
    "print(re.findall(\"(.+)\", \"Samosa with chutney\"))\n",
    "print(re.findall(\"(.*)\", \"Samosa with chutney\"))"
   ]
  },
  {
   "cell_type": "markdown",
   "metadata": {},
   "source": []
  },
  {
   "cell_type": "markdown",
   "metadata": {},
   "source": [
    "#### 11. What is the difference between {4} and {4,5} in regular expression?"
   ]
  },
  {
   "cell_type": "markdown",
   "metadata": {},
   "source": [
    "**Ans:** The `{3}` matches exactly three instances of the preceding group. The `{3,5}` matches between three and five instances."
   ]
  },
  {
   "cell_type": "code",
   "execution_count": 114,
   "metadata": {},
   "outputs": [
    {
     "name": "stdout",
     "output_type": "stream",
     "text": [
      "['123']\n",
      "['12345']\n"
     ]
    }
   ],
   "source": [
    "print(re.findall(\"\\d{3}\", \"12345\"))\n",
    "print(re.findall(\"\\d{3,6}\", \"12345\"))"
   ]
  },
  {
   "cell_type": "markdown",
   "metadata": {},
   "source": []
  },
  {
   "cell_type": "markdown",
   "metadata": {},
   "source": [
    "#### 12. What do you mean by the \\d, \\w, and \\s shorthand character classes signify in regular expressions?"
   ]
  },
  {
   "cell_type": "markdown",
   "metadata": {},
   "source": [
    "**Ans:** The `\\d`, `\\w` , and `\\s` shorthand character classes match a single digit, word, or space character, respectively."
   ]
  },
  {
   "cell_type": "code",
   "execution_count": 115,
   "metadata": {},
   "outputs": [
    {
     "name": "stdout",
     "output_type": "stream",
     "text": [
      "['12345']  finds all characters [0-9]\n",
      "['12345', 'is', 'a', 'whole', 'number']  finds all characters [A-Za-z0-9]\n",
      "[' ', ' ', ' ', ' ']  finds all characters [ ]\n"
     ]
    }
   ],
   "source": [
    "print(re.findall(\"\\d+\", \"12345 is a whole number.\"), \" finds all characters [0-9]\")\n",
    "print(re.findall(\"\\w+\", \"12345 is a whole number.\"), \" finds all characters [A-Za-z0-9]\")\n",
    "print(re.findall(\"\\s+\", \"12345 is a whole number.\"), \" finds all characters [ ]\")"
   ]
  },
  {
   "cell_type": "markdown",
   "metadata": {},
   "source": []
  },
  {
   "cell_type": "markdown",
   "metadata": {},
   "source": [
    "#### 13. What do means by \\D, \\W, and \\S shorthand character classes signify in regular expressions?"
   ]
  },
  {
   "cell_type": "markdown",
   "metadata": {},
   "source": [
    "**Ans:** The `\\D`, `\\W`, and `\\S` shorthand character classes match a single character that is not a digit, word, or space character, respectively."
   ]
  },
  {
   "cell_type": "code",
   "execution_count": 116,
   "metadata": {},
   "outputs": [
    {
     "name": "stdout",
     "output_type": "stream",
     "text": [
      "[' is a whole number.']  finds all characters [^0-9]\n",
      "[' ', ' ', ' ', ' ', '.']  finds all characters [^A-Za-z0-9]\n",
      "['12345', 'is', 'a', 'whole', 'number.']  finds all characters [^ ]\n"
     ]
    }
   ],
   "source": [
    "print(re.findall(\"\\D+\", \"12345 is a whole number.\"), \" finds all characters [^0-9]\")\n",
    "print(re.findall(\"\\W+\", \"12345 is a whole number.\"), \" finds all characters [^A-Za-z0-9]\")\n",
    "print(re.findall(\"\\S+\", \"12345 is a whole number.\"), \" finds all characters [^ ]\")"
   ]
  },
  {
   "cell_type": "markdown",
   "metadata": {},
   "source": []
  },
  {
   "cell_type": "markdown",
   "metadata": {},
   "source": [
    "#### 14. What is the difference between `.\\*` and `.\\*?`  ?"
   ]
  },
  {
   "cell_type": "markdown",
   "metadata": {},
   "source": [
    "**Ans:** The `.*` performs a greedy match, and the `.*?` performs a non-greedy match."
   ]
  },
  {
   "cell_type": "code",
   "execution_count": 117,
   "metadata": {},
   "outputs": [
    {
     "name": "stdout",
     "output_type": "stream",
     "text": [
      "['12345 is a whole number.', '']\n",
      "['', '1', '', '2', '', '3', '', '4', '', '5', '', ' ', '', 'i', '', 's', '', ' ', '', 'a', '', ' ', '', 'w', '', 'h', '', 'o', '', 'l', '', 'e', '', ' ', '', 'n', '', 'u', '', 'm', '', 'b', '', 'e', '', 'r', '', '.', '']\n"
     ]
    }
   ],
   "source": [
    "print(re.findall(\".*\", \"12345 is a whole number.\"))\n",
    "print(re.findall(\".*?\", \"12345 is a whole number.\"))"
   ]
  },
  {
   "cell_type": "markdown",
   "metadata": {},
   "source": []
  },
  {
   "cell_type": "markdown",
   "metadata": {},
   "source": [
    "#### 15. What is the syntax for matching both numbers and lowercase letters with a character class?"
   ]
  },
  {
   "cell_type": "markdown",
   "metadata": {},
   "source": [
    "**Ans:** Either `[0-9a-z]` or `[a-z0-9]`"
   ]
  },
  {
   "cell_type": "code",
   "execution_count": 118,
   "metadata": {},
   "outputs": [
    {
     "name": "stdout",
     "output_type": "stream",
     "text": [
      "['1', '2', '3', '4', '5', 'i', 's', 'a', 'n', 'u', 'm', 'b', 'e', 'r']  finds all characters [0-9a-z]\n"
     ]
    }
   ],
   "source": [
    "print(re.findall(\"[0-9a-z]\", \"12345 is a WHOLE number.\"), \" finds all characters [0-9a-z]\")"
   ]
  },
  {
   "cell_type": "markdown",
   "metadata": {},
   "source": []
  },
  {
   "cell_type": "markdown",
   "metadata": {},
   "source": [
    "#### 16. What is the procedure for making a normal expression in regax case insensitive?"
   ]
  },
  {
   "cell_type": "markdown",
   "metadata": {},
   "source": [
    "**Ans:** Passing **`re.I`** or **`re.IGNORECASE`** as the second argument to re.compile() will make the matching case insensitive."
   ]
  },
  {
   "cell_type": "code",
   "execution_count": 119,
   "metadata": {},
   "outputs": [
    {
     "name": "stdout",
     "output_type": "stream",
     "text": [
      "[('Mr.', 'Mr.', '', 'Samosa'), ('Mrs.', '', 'Mrs.', 'VadaPav')]\n"
     ]
    }
   ],
   "source": [
    "print(re.findall(re.compile(\"((Mr\\.)|(Mrs\\.)) ([a-z]+)\", re.I), \"Mr. Samosa is in fierce competition with Mrs. VadaPav\"))"
   ]
  },
  {
   "cell_type": "markdown",
   "metadata": {},
   "source": []
  },
  {
   "cell_type": "markdown",
   "metadata": {},
   "source": [
    "#### 17. What does the . character normally match? What does it match if re.DOTALL is passed as 2nd argument in re.compile()?"
   ]
  },
  {
   "cell_type": "markdown",
   "metadata": {},
   "source": [
    "**Ans:** The . character normally matches any character except the newline character. If **`re.DOTALL`** is passed as the second argument to re.compile(), then the dot will also match newline characters."
   ]
  },
  {
   "cell_type": "code",
   "execution_count": 120,
   "metadata": {},
   "outputs": [
    {
     "name": "stdout",
     "output_type": "stream",
     "text": [
      "['This is a sentence with', 'newline.']\n",
      "['This is a sentence with\\nnewline.']\n"
     ]
    }
   ],
   "source": [
    "string = \"\"\"This is a sentence with\n",
    "newline.\"\"\"\n",
    "\n",
    "print(re.findall(re.compile(\".+\"), string))\n",
    "print(re.findall(re.compile(\".+\", re.DOTALL), string))"
   ]
  },
  {
   "cell_type": "markdown",
   "metadata": {},
   "source": []
  },
  {
   "cell_type": "markdown",
   "metadata": {},
   "source": [
    "#### 18. If numReg = re.compile(r'\\d+'), what will numRegex.sub('X', '11 drummers, 10 pipers, five rings, 4 hen') return?"
   ]
  },
  {
   "cell_type": "markdown",
   "metadata": {},
   "source": [
    "**Ans:** The `sub()` call will return the string 'X drummers, X pipers, five rings, X hens'."
   ]
  },
  {
   "cell_type": "code",
   "execution_count": 121,
   "metadata": {},
   "outputs": [
    {
     "data": {
      "text/plain": [
       "'X drummers, X pipers, five rings, X hen'"
      ]
     },
     "execution_count": 121,
     "metadata": {},
     "output_type": "execute_result"
    }
   ],
   "source": [
    "numRegex = re.compile(r'\\d+')\n",
    "numRegex.sub('X', '11 drummers, 10 pipers, five rings, 4 hen')\n",
    "# .sub will substitute the pattern defined with the character/string provided"
   ]
  },
  {
   "cell_type": "markdown",
   "metadata": {},
   "source": []
  },
  {
   "cell_type": "markdown",
   "metadata": {},
   "source": [
    "#### 19. What does passing re.VERBOSE as the 2nd argument to re.compile() allow to do?"
   ]
  },
  {
   "cell_type": "markdown",
   "metadata": {},
   "source": [
    "**Ans:** The **`re.VERBOSE`** argument allows you to add whitespace and comments to the string passed to re.compile() ."
   ]
  },
  {
   "cell_type": "code",
   "execution_count": 122,
   "metadata": {},
   "outputs": [
    {
     "data": {
      "text/plain": [
       "['4485484568615151205']"
      ]
     },
     "execution_count": 122,
     "metadata": {},
     "output_type": "execute_result"
    }
   ],
   "source": [
    "pattern = re.compile(r\"\"\"\n",
    "           (?<=ID:\\s+)       # Positive Lookbehind\n",
    "           \\d{3}             # Area Code\n",
    "           \\d{4}             # State Code\n",
    "           \\d{4}             # Registration Year\n",
    "           \\d{8}             # User Registration Roll Number\n",
    "           \"\"\", re.VERBOSE, re.I)\n",
    "re.findall(pattern, \"USER ID: 4485484568615151205\")"
   ]
  },
  {
   "cell_type": "markdown",
   "metadata": {},
   "source": []
  },
  {
   "cell_type": "markdown",
   "metadata": {},
   "source": [
    "#### 20. How would you write a regex that match a number with comma for every three digits? It must match the given following:\n",
    "##### '42'\n",
    "##### '1,234'\n",
    "##### '6,368,745'\n",
    "#### but not the following:\n",
    "##### '12,34,567' (which has only two digits between the commas)\n",
    "##### '1234' (which lacks commas)"
   ]
  },
  {
   "cell_type": "markdown",
   "metadata": {},
   "source": [
    "**Ans:** **`re.compile(r'^\\d{1,3}(,\\d{3})*$')`** will create this regex, but other regex strings can produce a similar  regular expression."
   ]
  },
  {
   "cell_type": "markdown",
   "metadata": {},
   "source": []
  },
  {
   "cell_type": "markdown",
   "metadata": {},
   "source": [
    "#### 21. How would you write a regex that matches the full name of someone whose last name is Watanabe? You can assume that the first name that comes before it will always be one word that begins with a capital letter. The regex must match the following:\n",
    "##### 'Haruto Watanabe'\n",
    "##### 'Alice Watanabe'\n",
    "##### 'RoboCop Watanabe'\n",
    "#### but not the following:\n",
    "##### 'haruto Watanabe' (where the first name is not capitalized)\n",
    "##### 'Mr. Watanabe' (where the preceding word has a nonletter character)\n",
    "##### 'Watanabe' (which has no first name)\n",
    "##### 'Haruto watanabe' (where Watanabe is not capitalized)"
   ]
  },
  {
   "cell_type": "markdown",
   "metadata": {},
   "source": [
    "**Ans:** **`re.compile(r'[A-Z][a-z]*\\sWatanabe')`**"
   ]
  },
  {
   "cell_type": "markdown",
   "metadata": {},
   "source": []
  },
  {
   "cell_type": "markdown",
   "metadata": {},
   "source": [
    "#### 22. How would you write a regex that matches a sentence where the first word is either Alice, Bob, or Carol; the second word is either eats, pets, or throws; the third word is apples, cats, or baseballs; and the sentence ends with a period? This regex should be case-insensitive. It must match the following:\n",
    "##### 'Alice eats apples.'\n",
    "##### 'Bob pets cats.'\n",
    "##### 'Carol throws baseballs.'\n",
    "##### 'Alice throws Apples.'\n",
    "##### 'BOB EATS CATS.'\n",
    "#### but not the following:\n",
    "##### 'RoboCop eats apples.'\n",
    "##### 'ALICE THROWS FOOTBALLS.'\n",
    "##### 'Carol eats 7 cats.'"
   ]
  },
  {
   "cell_type": "markdown",
   "metadata": {},
   "source": [
    "**Ans:** **`re.compile(r'(Alice|Bob|Carol)\\s(eats|pets|throws)\\s(apples|cats|baseballs)\\.', re.IGNORECASE)`**"
   ]
  }
 ],
 "metadata": {
  "interpreter": {
   "hash": "d0d43860665baa26cd998e210bb5f949c374c363b141cb52dd7ace6edf5b1fb7"
  },
  "kernelspec": {
   "display_name": "Python 3.9.7 64-bit ('fullstack': conda)",
   "language": "python",
   "name": "python3"
  },
  "language_info": {
   "codemirror_mode": {
    "name": "ipython",
    "version": 3
   },
   "file_extension": ".py",
   "mimetype": "text/x-python",
   "name": "python",
   "nbconvert_exporter": "python",
   "pygments_lexer": "ipython3",
   "version": "3.9.7"
  },
  "orig_nbformat": 4
 },
 "nbformat": 4,
 "nbformat_minor": 2
}
