{
 "cells": [
  {
   "cell_type": "markdown",
   "metadata": {},
   "source": [
    "#### 1. How do you distinguish between shutil.copy() and shutil.copytree()?"
   ]
  },
  {
   "cell_type": "markdown",
   "metadata": {},
   "source": [
    "**Ans:** The   `shutil.copy()` function will copy a single file, while `shutil.copytree()` will copy an entire folder, along with all its contents.\n"
   ]
  },
  {
   "cell_type": "markdown",
   "metadata": {},
   "source": [
    " "
   ]
  },
  {
   "cell_type": "markdown",
   "metadata": {},
   "source": []
  },
  {
   "cell_type": "markdown",
   "metadata": {},
   "source": [
    "#### 2. What function is used to rename files?"
   ]
  },
  {
   "cell_type": "markdown",
   "metadata": {},
   "source": [
    "**Ans:** The `shutil.move()` function is used for renaming files as well as moving them."
   ]
  },
  {
   "cell_type": "markdown",
   "metadata": {},
   "source": [
    " "
   ]
  },
  {
   "cell_type": "markdown",
   "metadata": {},
   "source": []
  },
  {
   "cell_type": "markdown",
   "metadata": {},
   "source": [
    "#### 3. What is the difference between the delete functions in the send2trash and shutil modules?"
   ]
  },
  {
   "cell_type": "markdown",
   "metadata": {},
   "source": [
    "**Ans:** The `send2trash` functions will move a file or folder to the recycle bin, while `shutil` functions will permanently delete files and folders."
   ]
  },
  {
   "cell_type": "markdown",
   "metadata": {},
   "source": [
    " "
   ]
  },
  {
   "cell_type": "markdown",
   "metadata": {},
   "source": []
  },
  {
   "cell_type": "markdown",
   "metadata": {},
   "source": [
    "#### 4. ZipFile objects have a close() method just like File objects’ close() method. What ZipFile method is equivalent to File objects’ open() method?"
   ]
  },
  {
   "cell_type": "markdown",
   "metadata": {},
   "source": [
    "**Ans:** The `zipfile.ZipFile()` function is equivalent to the `open()` function; the first argument is the filename, and the second argument is the mode to open the ZIP file in (read, write, or append)."
   ]
  },
  {
   "cell_type": "markdown",
   "metadata": {},
   "source": [
    " "
   ]
  },
  {
   "cell_type": "markdown",
   "metadata": {},
   "source": []
  },
  {
   "cell_type": "markdown",
   "metadata": {},
   "source": [
    "#### 5. Create a programme that searches a folder tree for files with a certain file extension (such as .pdf or .jpg). Copy these files from whatever location they are in to a new folder."
   ]
  },
  {
   "cell_type": "code",
   "execution_count": 65,
   "metadata": {},
   "outputs": [
    {
     "name": "stdout",
     "output_type": "stream",
     "text": [
      "Copying D26_OvAWwAEk2zs.jpg\n",
      "\t/home/sumanthk/Pictures/Wallpapers/google-drive/PC/Space/D26_OvAWwAEk2zs.jpg --> /home/sumanthk/Pictures/Wallpapers/google-drive/PC/Intestellar/D26_OvAWwAEk2zs.jpg\n",
      "Copying sergioIC2220.jpg\n",
      "\t/home/sumanthk/Pictures/Wallpapers/google-drive/PC/Space/sergioIC2220.jpg --> /home/sumanthk/Pictures/Wallpapers/google-drive/PC/Intestellar/sergioIC2220.jpg\n",
      "Copying veilXie.jpg\n",
      "\t/home/sumanthk/Pictures/Wallpapers/google-drive/PC/Space/veilXie.jpg --> /home/sumanthk/Pictures/Wallpapers/google-drive/PC/Intestellar/veilXie.jpg\n",
      "Copying IC1805.jpg\n",
      "\t/home/sumanthk/Pictures/Wallpapers/google-drive/PC/Space/IC1805.jpg --> /home/sumanthk/Pictures/Wallpapers/google-drive/PC/Intestellar/IC1805.jpg\n",
      "Copying ohnz4k4x1a831.jpg\n",
      "\t/home/sumanthk/Pictures/Wallpapers/google-drive/PC/Space/ohnz4k4x1a831.jpg --> /home/sumanthk/Pictures/Wallpapers/google-drive/PC/Intestellar/ohnz4k4x1a831.jpg\n"
     ]
    }
   ],
   "source": [
    "# lets copy only five files for now\n",
    "import os, shutil, re\n",
    "\n",
    "source = '/home/sumanthk/Pictures/Wallpapers/google-drive/PC/Space'\n",
    "destination = '/home/sumanthk/Pictures/Wallpapers/google-drive/PC/Intestellar'\n",
    "\n",
    "NoOfFiles = 5\n",
    "for root, subroots, files in os.walk(source):\n",
    "    for file in files:\n",
    "        if file.lower().endswith(('jpg', 'pdf')) and NoOfFiles!=0:\n",
    "            fromFile = os.path.join(root, file)\n",
    "            toFile   = os.path.join(destination, file)\n",
    "            print('Copying %s\\n\\t%s --> %s'%(file,fromFile,toFile))\n",
    "            shutil.copy2(fromFile, toFile)\n",
    "            NoOfFiles-=1"
   ]
  },
  {
   "cell_type": "code",
   "execution_count": null,
   "metadata": {},
   "outputs": [
    {
     "name": "stdout",
     "output_type": "stream",
     "text": [
      "Copying D26_OvAWwAEk2zs.jpg\n",
      "\t/home/sumanthk/Pictures/Wallpapers/google-drive/PC/Space/D26_OvAWwAEk2zs.jpg --> /home/sumanthk/Pictures/Wallpapers/google-drive/PC/Intestellar/D26_OvAWwAEk2zs.jpg\n",
      "Copying sergioIC2220.jpg\n",
      "\t/home/sumanthk/Pictures/Wallpapers/google-drive/PC/Space/sergioIC2220.jpg --> /home/sumanthk/Pictures/Wallpapers/google-drive/PC/Intestellar/sergioIC2220.jpg\n",
      "Copying veilXie.jpg\n",
      "\t/home/sumanthk/Pictures/Wallpapers/google-drive/PC/Space/veilXie.jpg --> /home/sumanthk/Pictures/Wallpapers/google-drive/PC/Intestellar/veilXie.jpg\n",
      "Copying IC1805.jpg\n",
      "\t/home/sumanthk/Pictures/Wallpapers/google-drive/PC/Space/IC1805.jpg --> /home/sumanthk/Pictures/Wallpapers/google-drive/PC/Intestellar/IC1805.jpg\n",
      "Copying ohnz4k4x1a831.jpg\n",
      "\t/home/sumanthk/Pictures/Wallpapers/google-drive/PC/Space/ohnz4k4x1a831.jpg --> /home/sumanthk/Pictures/Wallpapers/google-drive/PC/Intestellar/ohnz4k4x1a831.jpg\n"
     ]
    }
   ],
   "source": [
    "# lets copy only five files for now\n",
    "import os, shutil, re\n",
    "\n",
    "source = '/home/sumanthk/Pictures/Wallpapers/google-drive/PC/Space'\n",
    "destination = '/home/sumanthk/Pictures/Wallpapers/google-drive/PC/Intestellar'\n",
    "\n",
    "NoOfFiles = 5\n",
    "for root, subroots, files in os.walk(source):\n",
    "    for file in files:\n",
    "        if file.lower().endswith(('jpg', 'pdf')) and NoOfFiles!=0:\n",
    "            fromFile = os.path.join(root, file)\n",
    "            toFile   = os.path.join(destination, file)\n",
    "            print('Copying %s\\n\\t%s --> %s'%(file,fromFile,toFile))\n",
    "            shutil.copy2(fromFile, toFile)\n",
    "            NoOfFiles-=1"
   ]
  },
  {
   "cell_type": "code",
   "execution_count": null,
   "metadata": {},
   "outputs": [
    {
     "name": "stdout",
     "output_type": "stream",
     "text": [
      "Copying D26_OvAWwAEk2zs.jpg\n",
      "\t/home/sumanthk/Pictures/Wallpapers/google-drive/PC/Space/D26_OvAWwAEk2zs.jpg --> /home/sumanthk/Pictures/Wallpapers/google-drive/PC/Intestellar/D26_OvAWwAEk2zs.jpg\n",
      "Copying sergioIC2220.jpg\n",
      "\t/home/sumanthk/Pictures/Wallpapers/google-drive/PC/Space/sergioIC2220.jpg --> /home/sumanthk/Pictures/Wallpapers/google-drive/PC/Intestellar/sergioIC2220.jpg\n",
      "Copying veilXie.jpg\n",
      "\t/home/sumanthk/Pictures/Wallpapers/google-drive/PC/Space/veilXie.jpg --> /home/sumanthk/Pictures/Wallpapers/google-drive/PC/Intestellar/veilXie.jpg\n",
      "Copying IC1805.jpg\n",
      "\t/home/sumanthk/Pictures/Wallpapers/google-drive/PC/Space/IC1805.jpg --> /home/sumanthk/Pictures/Wallpapers/google-drive/PC/Intestellar/IC1805.jpg\n",
      "Copying ohnz4k4x1a831.jpg\n",
      "\t/home/sumanthk/Pictures/Wallpapers/google-drive/PC/Space/ohnz4k4x1a831.jpg --> /home/sumanthk/Pictures/Wallpapers/google-drive/PC/Intestellar/ohnz4k4x1a831.jpg\n"
     ]
    }
   ],
   "source": [
    "# lets copy only five files for now\n",
    "import os, shutil, re\n",
    "\n",
    "source = '/home/sumanthk/Pictures/Wallpapers/google-drive/PC/Space'\n",
    "destination = '/home/sumanthk/Pictures/Wallpapers/google-drive/PC/Intestellar'\n",
    "\n",
    "NoOfFiles = 5\n",
    "for root, subroots, files in os.walk(source):\n",
    "    for file in files:\n",
    "        if file.lower().endswith(('jpg', 'pdf')) and NoOfFiles!=0:\n",
    "            fromFile = os.path.join(root, file)\n",
    "            toFile   = os.path.join(destination, file)\n",
    "            print('Copying %s\\n\\t%s --> %s'%(file,fromFile,toFile))\n",
    "            shutil.copy2(fromFile, toFile)\n",
    "            NoOfFiles-=1"
   ]
  },
  {
   "cell_type": "code",
   "execution_count": null,
   "metadata": {},
   "outputs": [
    {
     "name": "stdout",
     "output_type": "stream",
     "text": [
      "Copying D26_OvAWwAEk2zs.jpg\n",
      "\t/home/sumanthk/Pictures/Wallpapers/google-drive/PC/Space/D26_OvAWwAEk2zs.jpg --> /home/sumanthk/Pictures/Wallpapers/google-drive/PC/Intestellar/D26_OvAWwAEk2zs.jpg\n",
      "Copying sergioIC2220.jpg\n",
      "\t/home/sumanthk/Pictures/Wallpapers/google-drive/PC/Space/sergioIC2220.jpg --> /home/sumanthk/Pictures/Wallpapers/google-drive/PC/Intestellar/sergioIC2220.jpg\n",
      "Copying veilXie.jpg\n",
      "\t/home/sumanthk/Pictures/Wallpapers/google-drive/PC/Space/veilXie.jpg --> /home/sumanthk/Pictures/Wallpapers/google-drive/PC/Intestellar/veilXie.jpg\n",
      "Copying IC1805.jpg\n",
      "\t/home/sumanthk/Pictures/Wallpapers/google-drive/PC/Space/IC1805.jpg --> /home/sumanthk/Pictures/Wallpapers/google-drive/PC/Intestellar/IC1805.jpg\n",
      "Copying ohnz4k4x1a831.jpg\n",
      "\t/home/sumanthk/Pictures/Wallpapers/google-drive/PC/Space/ohnz4k4x1a831.jpg --> /home/sumanthk/Pictures/Wallpapers/google-drive/PC/Intestellar/ohnz4k4x1a831.jpg\n"
     ]
    }
   ],
   "source": [
    "# lets copy only five files for now\n",
    "import os, shutil, re\n",
    "\n",
    "source = '/home/sumanthk/Pictures/Wallpapers/google-drive/PC/Space'\n",
    "destination = '/home/sumanthk/Pictures/Wallpapers/google-drive/PC/Intestellar'\n",
    "\n",
    "NoOfFiles = 5\n",
    "for root, subroots, files in os.walk(source):\n",
    "    for file in files:\n",
    "        if file.lower().endswith(('jpg', 'pdf')) and NoOfFiles!=0:\n",
    "            fromFile = os.path.join(root, file)\n",
    "            toFile   = os.path.join(destination, file)\n",
    "            print('Copying %s\\n\\t%s --> %s'%(file,fromFile,toFile))\n",
    "            shutil.copy2(fromFile, toFile)\n",
    "            NoOfFiles-=1"
   ]
  }
 ],
 "metadata": {
  "interpreter": {
   "hash": "d0d43860665baa26cd998e210bb5f949c374c363b141cb52dd7ace6edf5b1fb7"
  },
  "kernelspec": {
   "display_name": "Python 3.9.7 64-bit ('fullstack': conda)",
   "language": "python",
   "name": "python3"
  },
  "language_info": {
   "codemirror_mode": {
    "name": "ipython",
    "version": 3
   },
   "file_extension": ".py",
   "mimetype": "text/x-python",
   "name": "python",
   "nbconvert_exporter": "python",
   "pygments_lexer": "ipython3",
   "version": "3.9.7"
  },
  "orig_nbformat": 4
 },
 "nbformat": 4,
 "nbformat_minor": 2
}
