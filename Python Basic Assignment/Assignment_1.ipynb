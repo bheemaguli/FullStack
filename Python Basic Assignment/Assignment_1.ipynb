{
 "cells": [
  {
   "cell_type": "markdown",
   "id": "f34a365b-91ef-4ff4-b617-ddc430284dee",
   "metadata": {
    "tags": []
   },
   "source": [
    "# *1. In the below elements which of them are values or an expression? eg:- values can be integer or string and expressions will be mathematical operators.*\n",
    "#### (i) \\*   \n",
    "#### *(ii) 'hello'*\n",
    "#### *(iii) -87.8*\n",
    "#### *(iv) -*\n",
    "#### *(v) /*\n",
    "#### *(vi)     +*\n",
    "#### *(vii) 6*\n"
   ]
  },
  {
   "cell_type": "code",
   "execution_count": 9,
   "id": "e9d18224-436b-4d9f-bc91-dc73a011b922",
   "metadata": {},
   "outputs": [
    {
     "name": "stdout",
     "output_type": "stream",
     "text": [
      "(ii)  hello \t <class 'str'>\n",
      "(iii) -87.8 \t <class 'float'>\n",
      "(vii) 6 \t <class 'int'>\n",
      "are values\n"
     ]
    }
   ],
   "source": [
    "for key, value in {'(ii)':' hello', '(iii)':-87.8, '(vii)':6}.items():\n",
    "    print(key,value,'\\t',type(value))\n",
    "\n",
    "print('are values')    "
   ]
  },
  {
   "cell_type": "markdown",
   "id": "0186ccba-3ba3-448a-9e69-b4297c022684",
   "metadata": {},
   "source": [
    "    (i)* , (iv)- , (v)/ and (vi)+ are expressions"
   ]
  },
  {
   "cell_type": "markdown",
   "id": "f736ab0a-8652-400a-a120-25d927e9759e",
   "metadata": {},
   "source": [
    " "
   ]
  },
  {
   "cell_type": "markdown",
   "id": "fcc90c91-42ec-45a9-8a29-ee6384cd2ab9",
   "metadata": {
    "tags": []
   },
   "source": [
    "# *2. What is the difference between string and variable?*"
   ]
  },
  {
   "cell_type": "markdown",
   "id": "3e1b3f30-3006-440d-b8e3-e7be1202a48c",
   "metadata": {},
   "source": [
    "    'string' is a chain of characters, 'variable' is placeholder of this chain of characters that has a space reserved in the memory with vatiable as label."
   ]
  },
  {
   "cell_type": "markdown",
   "id": "7fadba05-ba93-4b9b-82e2-56fd8ba7ec6e",
   "metadata": {},
   "source": [
    " "
   ]
  },
  {
   "cell_type": "markdown",
   "id": "93c6e286-6b75-40a2-a2cd-02b2e0f414fc",
   "metadata": {
    "tags": []
   },
   "source": [
    "# *3. Describe different data types.*"
   ]
  },
  {
   "cell_type": "markdown",
   "id": "2d9ee089-a2f1-4fc9-bca8-b4ebeb7dd054",
   "metadata": {},
   "source": [
    "    In Python, there are following Data Tpes:\n",
    "    \n",
    "    |\n",
    "    |-- Dictionary          (eg. {key1:'value1', key2:'value2'})\n",
    "    |-- Boolean             (eg. True|1 and False|0)\n",
    "    |-- Set                 (eg. {'items', 'without', 'repetatition'})\n",
    "    |-- Numeric\n",
    "    |        |\n",
    "    |        |-- Integer    (eg. 1, 100, -300)\n",
    "    |        |-- Complex    (eg. 1-3j, -5+6j)\n",
    "    |        '-- Float      (eg. 3.05, -87.8)\n",
    "    |\n",
    "    '-- Sequence\n",
    "             |-- String     (eg.'Chain of Characters with single', \"double or\", \n",
    "             |                \"\"\"three quotes\"\"\", '''along with this.\\n''' )\n",
    "             |-- List       (eg. ['combination of', \"numbers like\", 1, 3, -89+3j, \n",
    "             |               \"and multi layer lists, tuple, etc\", [1,2,3,\n",
    "             |                {'Sumanth': \"Kashyap\", 'Python':('Assignment',1)}]])\n",
    "             '-- Tuple      (eg. ('tuple are', 'immtable', 'lists'))"
   ]
  },
  {
   "cell_type": "markdown",
   "id": "bfa9b006-6b3f-4371-a406-c0bc90a9a722",
   "metadata": {},
   "source": [
    " "
   ]
  },
  {
   "cell_type": "markdown",
   "id": "ac27a2d1-45c4-487b-aafd-219419a46af3",
   "metadata": {
    "tags": []
   },
   "source": [
    "# *4. What is an expression made up of? What do all expressions do?*"
   ]
  },
  {
   "cell_type": "markdown",
   "id": "4eff65aa-c9dc-408d-b8e6-fff6558ffaac",
   "metadata": {},
   "source": [
    "    An expression consists of combination of values, variables, operators, and calls to functions. It is an instruction that always evaluates down to a single value."
   ]
  },
  {
   "cell_type": "markdown",
   "id": "c0c330aa-9608-4c71-8a04-86da36b68ade",
   "metadata": {},
   "source": [
    " "
   ]
  },
  {
   "cell_type": "markdown",
   "id": "1a4d1393-ca1d-424b-aba7-a8b3407ac218",
   "metadata": {
    "tags": []
   },
   "source": [
    "# *5. This assignment statements, like spam = 10. What is the difference between an expression and a statement?*"
   ]
  },
  {
   "cell_type": "markdown",
   "id": "09d4d585-ca3c-44cb-b3f8-282da4497fd9",
   "metadata": {},
   "source": [
    "    Expressions represent something, like a number, a string, or an instance of a class. Any value is an expression. Any value contained in that statement in an expression. \n",
    "\n",
    "    Anything that does something is a statement. Any assignment to a variable or function call is a statement. \n",
    "\n",
    "    spam = 10 is a statement while '10' is an expression"
   ]
  },
  {
   "cell_type": "markdown",
   "id": "740bebef-a66a-4b6c-aa72-304505c0ece3",
   "metadata": {},
   "source": [
    " "
   ]
  },
  {
   "cell_type": "markdown",
   "id": "86e9f871-c702-4f0d-8108-009371f2d290",
   "metadata": {
    "tags": []
   },
   "source": [
    "# *6. After running the following code, what does the variable bacon contain?*\n",
    "#### *bacon = 22*\n",
    "#### *bacon + 1*"
   ]
  },
  {
   "cell_type": "code",
   "execution_count": 2,
   "id": "9239b887-2255-4fcf-82fb-2fc2d3c934a5",
   "metadata": {},
   "outputs": [
    {
     "data": {
      "text/plain": [
       "23"
      ]
     },
     "execution_count": 2,
     "metadata": {},
     "output_type": "execute_result"
    }
   ],
   "source": [
    "bacon = 22\n",
    "bacon + 1"
   ]
  },
  {
   "cell_type": "code",
   "execution_count": 3,
   "id": "011bcdea-9f7e-4ac3-8659-62161bfc288d",
   "metadata": {},
   "outputs": [
    {
     "data": {
      "text/plain": [
       "22"
      ]
     },
     "execution_count": 3,
     "metadata": {},
     "output_type": "execute_result"
    }
   ],
   "source": [
    "bacon"
   ]
  },
  {
   "cell_type": "markdown",
   "id": "6ff04ca7-e28f-43ee-a62b-35b5c6ede5e8",
   "metadata": {},
   "source": [
    "    ∵ bacon + 1 is not getting stored to bacon"
   ]
  },
  {
   "cell_type": "markdown",
   "id": "8954a6a3-9446-4481-87c1-990b19be1d23",
   "metadata": {},
   "source": [
    " "
   ]
  },
  {
   "cell_type": "markdown",
   "id": "d24a825c-2479-4fbc-901e-3ded8639e7d5",
   "metadata": {
    "tags": []
   },
   "source": [
    "# 7. What should the values of the following two terms be?\n",
    "#### *'spam' + 'spamspam'*\n",
    "#### *'spam' * 3*"
   ]
  },
  {
   "cell_type": "markdown",
   "id": "b7b6e713-bad6-4adb-ae2a-0c40e039b30c",
   "metadata": {},
   "source": [
    "Both statement yields same results."
   ]
  },
  {
   "cell_type": "code",
   "execution_count": 4,
   "id": "78ea1aec-769e-4994-b49f-87299d3ad169",
   "metadata": {},
   "outputs": [
    {
     "data": {
      "text/plain": [
       "'spamspamspam'"
      ]
     },
     "execution_count": 4,
     "metadata": {},
     "output_type": "execute_result"
    }
   ],
   "source": [
    "'spam' + 'spamspam'"
   ]
  },
  {
   "cell_type": "code",
   "execution_count": 5,
   "id": "e5fb2a41-1297-4ab1-9734-e226cb7429db",
   "metadata": {},
   "outputs": [
    {
     "data": {
      "text/plain": [
       "'spamspamspam'"
      ]
     },
     "execution_count": 5,
     "metadata": {},
     "output_type": "execute_result"
    }
   ],
   "source": [
    "'spam' * 3"
   ]
  },
  {
   "cell_type": "markdown",
   "id": "4b15cadb-022f-413e-8e24-5f39f322eafb",
   "metadata": {},
   "source": [
    " "
   ]
  },
  {
   "cell_type": "markdown",
   "id": "dc9a51c3-423f-4662-b6be-549c3d6c5b19",
   "metadata": {
    "tags": []
   },
   "source": [
    "# 8. Why is eggs a valid variable name while 100 is invalid?"
   ]
  },
  {
   "cell_type": "markdown",
   "id": "5a5a6f51-8ef1-4357-a1cd-ce374dc58a20",
   "metadata": {},
   "source": [
    "    100 cannot be a variable name because assigning a value to it is not logical. For example, if 100 = 30 is not a valid value assign process. print(100) in this case will yield the number and not the value that is supposedly been assigned.\n",
    "\n",
    "    eggs on the other hand can be a valid value placeholder. Thus eggs = 30 is logical.\n",
    "\n",
    "    This os a reason why we have variable naming condition as \n",
    "\n",
    "        * A variable name must start with a letter or the underscore character\n",
    "        * A variable name cannot start with a number\n",
    "        * A variable name can only contain alpha-numeric characters and underscores (A-z, 0-9, and _ )\n",
    "        * Variable names are case-sensitive (age, Age and AGE are three different variables)\n"
   ]
  },
  {
   "cell_type": "markdown",
   "id": "c3c8c118-6acd-4e1c-a4c1-aba38dfba072",
   "metadata": {},
   "source": [
    " "
   ]
  },
  {
   "cell_type": "markdown",
   "id": "b94df74c-df86-48ac-870a-28de89646c56",
   "metadata": {
    "tags": []
   },
   "source": [
    "# 9. What three functions can be used to get the integer, floating-point number, or string version of a value?"
   ]
  },
  {
   "cell_type": "markdown",
   "id": "4b0b18c4-07d1-4bf4-8d7c-83b8f48513a0",
   "metadata": {},
   "source": [
    "    int(), float() and str() are the three required functions."
   ]
  },
  {
   "cell_type": "code",
   "execution_count": 8,
   "id": "c29ccd9c-f7ac-4b2b-b5e3-9d45493b9a92",
   "metadata": {},
   "outputs": [
    {
     "name": "stdout",
     "output_type": "stream",
     "text": [
      "100 78.9 100\n"
     ]
    }
   ],
   "source": [
    "print(int('100'), float('78.9'), str(100))"
   ]
  },
  {
   "cell_type": "markdown",
   "id": "9a574cee-e2ed-4aca-b498-ea4277ec20e8",
   "metadata": {},
   "source": [
    " "
   ]
  },
  {
   "cell_type": "markdown",
   "id": "52ba5e8f-2b57-4ec9-a01e-a95f4470d5d3",
   "metadata": {
    "tags": []
   },
   "source": [
    "# 10. Why does this expression cause an error? How can you fix it?\n",
    "#### *'I have eaten ' + 99 + ' burritos.'*"
   ]
  },
  {
   "cell_type": "markdown",
   "id": "cdce1af8-5846-4ba6-8103-892681c52297",
   "metadata": {},
   "source": [
    "    When concatenating strings with +, each of the values must me string type. since 99 is a numeric, it throws an error.\n",
    "\n",
    "    To  fix it, we can convert the numeric value to string with str() function as"
   ]
  },
  {
   "cell_type": "code",
   "execution_count": 7,
   "id": "ca7ef169-5df6-489d-a4d8-1f1cbcb18ed4",
   "metadata": {},
   "outputs": [
    {
     "data": {
      "text/plain": [
       "'I have eaten 99 samosa.'"
      ]
     },
     "execution_count": 7,
     "metadata": {},
     "output_type": "execute_result"
    }
   ],
   "source": [
    "'I have eaten ' + str(99) + ' samosa.'"
   ]
  }
 ],
 "metadata": {
  "kernelspec": {
   "display_name": "Python 3 (ipykernel)",
   "language": "python",
   "name": "python3"
  },
  "language_info": {
   "codemirror_mode": {
    "name": "ipython",
    "version": 3
   },
   "file_extension": ".py",
   "mimetype": "text/x-python",
   "name": "python",
   "nbconvert_exporter": "python",
   "pygments_lexer": "ipython3",
   "version": "3.9.7"
  }
 },
 "nbformat": 4,
 "nbformat_minor": 5
}
